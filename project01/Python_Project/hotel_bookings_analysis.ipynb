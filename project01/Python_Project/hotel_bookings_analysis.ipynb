{
  "nbformat": 4,
  "nbformat_minor": 0,
  "metadata": {
    "colab": {
      "provenance": [],
      "authorship_tag": "ABX9TyPz/tWLHPsfXMkfyYNlx99P",
      "include_colab_link": true
    },
    "kernelspec": {
      "name": "python3",
      "display_name": "Python 3"
    },
    "language_info": {
      "name": "python"
    }
  },
  "cells": [
    {
      "cell_type": "markdown",
      "metadata": {
        "id": "view-in-github",
        "colab_type": "text"
      },
      "source": [
        "<a href=\"https://colab.research.google.com/github/sjtae/data_science_project/blob/main/project01/Python_Project/hotel_bookings_analysis.ipynb\" target=\"_parent\"><img src=\"https://colab.research.google.com/assets/colab-badge.svg\" alt=\"Open In Colab\"/></a>"
      ]
    },
    {
      "cell_type": "code",
      "execution_count": 1,
      "metadata": {
        "id": "tKasnvosu_Qg"
      },
      "outputs": [],
      "source": [
        "import pandas as pd\n",
        "import seaborn as sns\n",
        "import matplotlib.pyplot as plt"
      ]
    },
    {
      "cell_type": "code",
      "source": [
        "# import our dataset\n",
        "df = pd.read_csv(\"hotel_bookings.csv\")"
      ],
      "metadata": {
        "id": "IZvZ7VL-Krdo"
      },
      "execution_count": 2,
      "outputs": []
    },
    {
      "cell_type": "code",
      "source": [
        "# our hotel dataset info\n",
        "df.info()"
      ],
      "metadata": {
        "colab": {
          "base_uri": "https://localhost:8080/"
        },
        "id": "ArUMXOjOLFKW",
        "outputId": "68b61add-8b21-47e3-888a-9bd6cb44ceb2"
      },
      "execution_count": 3,
      "outputs": [
        {
          "output_type": "stream",
          "name": "stdout",
          "text": [
            "<class 'pandas.core.frame.DataFrame'>\n",
            "RangeIndex: 74108 entries, 0 to 74107\n",
            "Data columns (total 32 columns):\n",
            " #   Column                          Non-Null Count  Dtype  \n",
            "---  ------                          --------------  -----  \n",
            " 0   hotel                           74108 non-null  object \n",
            " 1   is_canceled                     74108 non-null  int64  \n",
            " 2   lead_time                       74108 non-null  int64  \n",
            " 3   arrival_date_year               74108 non-null  int64  \n",
            " 4   arrival_date_month              74108 non-null  object \n",
            " 5   arrival_date_week_number        74108 non-null  int64  \n",
            " 6   arrival_date_day_of_month       74108 non-null  int64  \n",
            " 7   stays_in_weekend_nights         74108 non-null  int64  \n",
            " 8   stays_in_week_nights            74108 non-null  int64  \n",
            " 9   adults                          74108 non-null  int64  \n",
            " 10  children                        74104 non-null  float64\n",
            " 11  babies                          74108 non-null  int64  \n",
            " 12  meal                            74108 non-null  object \n",
            " 13  country                         73622 non-null  object \n",
            " 14  market_segment                  74108 non-null  object \n",
            " 15  distribution_channel            74108 non-null  object \n",
            " 16  is_repeated_guest               74108 non-null  int64  \n",
            " 17  previous_cancellations          74108 non-null  int64  \n",
            " 18  previous_bookings_not_canceled  74108 non-null  int64  \n",
            " 19  reserved_room_type              74108 non-null  object \n",
            " 20  assigned_room_type              74108 non-null  object \n",
            " 21  booking_changes                 74108 non-null  int64  \n",
            " 22  deposit_type                    74108 non-null  object \n",
            " 23  agent                           63211 non-null  float64\n",
            " 24  company                         3845 non-null   float64\n",
            " 25  days_in_waiting_list            74108 non-null  int64  \n",
            " 26  customer_type                   74107 non-null  object \n",
            " 27  adr                             74107 non-null  float64\n",
            " 28  required_car_parking_spaces     74107 non-null  float64\n",
            " 29  total_of_special_requests       74107 non-null  float64\n",
            " 30  reservation_status              74107 non-null  object \n",
            " 31  reservation_status_date         74107 non-null  object \n",
            "dtypes: float64(6), int64(14), object(12)\n",
            "memory usage: 18.1+ MB\n"
          ]
        }
      ]
    },
    {
      "cell_type": "markdown",
      "source": [
        "## Feature engineering"
      ],
      "metadata": {
        "id": "-ppmxXJHLsQ-"
      }
    },
    {
      "cell_type": "code",
      "source": [
        "# create 'total_guests' column to sum all the guests in one room\n",
        "df['total_guests'] = df['adults'] + df['children'] + df['babies']\n",
        "df['total_guests'] = df['total_guests'].fillna(0).astype(int)"
      ],
      "metadata": {
        "id": "kueT8kpaLGcR"
      },
      "execution_count": 4,
      "outputs": []
    },
    {
      "cell_type": "code",
      "source": [
        "# create 'total_length' column to find the total nights the guests stayed at the hotel\n",
        "df['total_length'] = df['stays_in_weekend_nights'] + df['stays_in_week_nights']"
      ],
      "metadata": {
        "id": "n7nXZFM8Le4n"
      },
      "execution_count": 5,
      "outputs": []
    },
    {
      "cell_type": "code",
      "source": [
        "# create 'room_change' column to determine if the reserved room is different from the assigned room\n",
        "df['room_change'] = df['reserved_room_type'] == df['assigned_room_type']"
      ],
      "metadata": {
        "id": "kiFC8VhjLhm-"
      },
      "execution_count": 6,
      "outputs": []
    },
    {
      "cell_type": "code",
      "source": [
        "# create 'early_bird' column to see the numbers of reservations made more than 6 months in advance\n",
        "df['early_bird'] = df['days_in_waiting_list'] > 180\n",
        "df['early_bird']"
      ],
      "metadata": {
        "colab": {
          "base_uri": "https://localhost:8080/"
        },
        "id": "6JLaNACsPdfb",
        "outputId": "0260a50c-06ea-4cc1-df59-dc3e7eab42a6"
      },
      "execution_count": 7,
      "outputs": [
        {
          "output_type": "execute_result",
          "data": {
            "text/plain": [
              "0        False\n",
              "1        False\n",
              "2        False\n",
              "3        False\n",
              "4        False\n",
              "         ...  \n",
              "74103    False\n",
              "74104    False\n",
              "74105    False\n",
              "74106    False\n",
              "74107    False\n",
              "Name: early_bird, Length: 74108, dtype: bool"
            ]
          },
          "metadata": {},
          "execution_count": 7
        }
      ]
    },
    {
      "cell_type": "markdown",
      "source": [
        "### Combine our dataset with weather data"
      ],
      "metadata": {
        "id": "qHQ3AyVVR43S"
      }
    },
    {
      "cell_type": "code",
      "source": [
        "month_name_to_number = {\n",
        "    'January': '01',\n",
        "    'February': '02',\n",
        "    'March': '03',\n",
        "    'April': '04',\n",
        "    'May': '05',\n",
        "    'June': '06',\n",
        "    'July': '07',\n",
        "    'August': '08',\n",
        "    'September': '09',\n",
        "    'October': '10',\n",
        "    'November': '11',\n",
        "    'December': '12'\n",
        "}\n",
        "\n",
        "# Create new year, month, day column to easily convert to datetime type\n",
        "df['month'] = df['arrival_date_month'].map(month_name_to_number)\n",
        "df['year'] = df['arrival_date_year'].astype(str)\n",
        "df['day'] = df['arrival_date_day_of_month'].astype(str)\n",
        "\n",
        "# Create 'datetime' column\n",
        "df['datetime'] = pd.to_datetime(df[['year', 'month', 'day']], errors='coerce')\n",
        "df['datetime']\n"
      ],
      "metadata": {
        "colab": {
          "base_uri": "https://localhost:8080/"
        },
        "id": "UcuG-oBuaSPd",
        "outputId": "283caef6-48e0-4f0b-89c7-cc5ee1232d7a"
      },
      "execution_count": 8,
      "outputs": [
        {
          "output_type": "execute_result",
          "data": {
            "text/plain": [
              "0       2015-07-01\n",
              "1       2015-07-01\n",
              "2       2015-07-01\n",
              "3       2015-07-01\n",
              "4       2015-07-01\n",
              "           ...    \n",
              "74103   2015-09-10\n",
              "74104   2015-09-10\n",
              "74105   2015-09-10\n",
              "74106   2015-09-10\n",
              "74107   2015-09-10\n",
              "Name: datetime, Length: 74108, dtype: datetime64[ns]"
            ]
          },
          "metadata": {},
          "execution_count": 8
        }
      ]
    },
    {
      "cell_type": "code",
      "source": [
        "# Load weather data for City Hotel(located in Lisbon, Portugal) with specific columns\n",
        "columns_to_select = ['datetime', 'temp', 'tempmin', 'tempmax','precip','preciptype', 'conditions', 'description']\n",
        "weather_city_hotel = pd.read_csv('lisbon_2015-07-27_2017-08-31.csv', usecols=columns_to_select)\n",
        "weather_city_hotel['datetime'] = pd.to_datetime(weather_city_hotel['datetime'])\n",
        "\n",
        "# Load weather data for Resort Hotel(located in Faro, Portugal) with specific columns\n",
        "columns_to_select = ['datetime', 'temp', 'tempmin', 'tempmax','precip','preciptype', 'conditions', 'description']\n",
        "weather_resort_hotel = pd.read_csv('faro_2015-07-27_2017-08-31.csv', usecols=columns_to_select)\n",
        "weather_resort_hotel['datetime'] = pd.to_datetime(weather_resort_hotel['datetime'])\n",
        "\n",
        "# Merge city hotel data with selected weather columns\n",
        "hotel_city_hotel = df[df['hotel'] == 'City Hotel']\n",
        "merged_city_hotel = pd.merge(hotel_city_hotel, weather_city_hotel, on='datetime', how='inner')\n",
        "\n",
        "# Merge resort hotel data with selected weather columns\n",
        "hotel_resort_hotel = df[df['hotel'] == 'Resort Hotel']\n",
        "merged_resort_hotel = pd.merge(hotel_resort_hotel, weather_resort_hotel, on='datetime', how='inner')\n",
        "\n",
        "# Concatenate the results into a single DataFrame\n",
        "merged_df_weather = pd.concat([merged_city_hotel, merged_resort_hotel])\n",
        "merged_df_weather['preciptype'] = merged_df_weather['preciptype'].fillna('no_precip')\n",
        "merged_df_weather.info()"
      ],
      "metadata": {
        "colab": {
          "base_uri": "https://localhost:8080/"
        },
        "id": "M-6UpnlPRlCT",
        "outputId": "5394ca1d-dca5-4b28-f881-632f98897c04"
      },
      "execution_count": 9,
      "outputs": [
        {
          "output_type": "stream",
          "name": "stdout",
          "text": [
            "<class 'pandas.core.frame.DataFrame'>\n",
            "Int64Index: 72384 entries, 0 to 38912\n",
            "Data columns (total 47 columns):\n",
            " #   Column                          Non-Null Count  Dtype         \n",
            "---  ------                          --------------  -----         \n",
            " 0   hotel                           72384 non-null  object        \n",
            " 1   is_canceled                     72384 non-null  int64         \n",
            " 2   lead_time                       72384 non-null  int64         \n",
            " 3   arrival_date_year               72384 non-null  int64         \n",
            " 4   arrival_date_month              72384 non-null  object        \n",
            " 5   arrival_date_week_number        72384 non-null  int64         \n",
            " 6   arrival_date_day_of_month       72384 non-null  int64         \n",
            " 7   stays_in_weekend_nights         72384 non-null  int64         \n",
            " 8   stays_in_week_nights            72384 non-null  int64         \n",
            " 9   adults                          72384 non-null  int64         \n",
            " 10  children                        72380 non-null  float64       \n",
            " 11  babies                          72384 non-null  int64         \n",
            " 12  meal                            72384 non-null  object        \n",
            " 13  country                         71909 non-null  object        \n",
            " 14  market_segment                  72384 non-null  object        \n",
            " 15  distribution_channel            72384 non-null  object        \n",
            " 16  is_repeated_guest               72384 non-null  int64         \n",
            " 17  previous_cancellations          72384 non-null  int64         \n",
            " 18  previous_bookings_not_canceled  72384 non-null  int64         \n",
            " 19  reserved_room_type              72384 non-null  object        \n",
            " 20  assigned_room_type              72384 non-null  object        \n",
            " 21  booking_changes                 72384 non-null  int64         \n",
            " 22  deposit_type                    72384 non-null  object        \n",
            " 23  agent                           61661 non-null  float64       \n",
            " 24  company                         3825 non-null   float64       \n",
            " 25  days_in_waiting_list            72384 non-null  int64         \n",
            " 26  customer_type                   72383 non-null  object        \n",
            " 27  adr                             72383 non-null  float64       \n",
            " 28  required_car_parking_spaces     72383 non-null  float64       \n",
            " 29  total_of_special_requests       72383 non-null  float64       \n",
            " 30  reservation_status              72383 non-null  object        \n",
            " 31  reservation_status_date         72383 non-null  object        \n",
            " 32  total_guests                    72384 non-null  int64         \n",
            " 33  total_length                    72384 non-null  int64         \n",
            " 34  room_change                     72384 non-null  bool          \n",
            " 35  early_bird                      72384 non-null  bool          \n",
            " 36  month                           72384 non-null  object        \n",
            " 37  year                            72384 non-null  object        \n",
            " 38  day                             72384 non-null  object        \n",
            " 39  datetime                        72384 non-null  datetime64[ns]\n",
            " 40  tempmax                         72384 non-null  float64       \n",
            " 41  tempmin                         72384 non-null  float64       \n",
            " 42  temp                            72384 non-null  float64       \n",
            " 43  precip                          72384 non-null  float64       \n",
            " 44  preciptype                      72384 non-null  object        \n",
            " 45  conditions                      72384 non-null  object        \n",
            " 46  description                     72384 non-null  object        \n",
            "dtypes: bool(2), datetime64[ns](1), float64(10), int64(16), object(18)\n",
            "memory usage: 25.5+ MB\n"
          ]
        }
      ]
    },
    {
      "cell_type": "markdown",
      "source": [
        "## Seasonal Booking Analysis"
      ],
      "metadata": {
        "id": "SkX-BG9eOIzg"
      }
    },
    {
      "cell_type": "markdown",
      "source": [
        "### Number of bookings by month & week"
      ],
      "metadata": {
        "id": "7a3Y8hkQZXSq"
      }
    },
    {
      "cell_type": "code",
      "source": [
        "# find the number of bookings group by month and week\n",
        "bookings_by_month_and_week = df.groupby(['month', 'arrival_date_week_number']).size().reset_index(name='number_of_bookings')\n",
        "\n",
        "# Pivot the data to create a pivot table\n",
        "pivot_table = bookings_by_month_and_week.pivot(index='month', columns='arrival_date_week_number', values='number_of_bookings')\n",
        "\n",
        "# Create a heatmap\n",
        "plt.figure(figsize=(10, 6))\n",
        "sns.heatmap(pivot_table, annot=False, cmap='YlGnBu')\n",
        "plt.xlabel('Week Number')\n",
        "plt.ylabel('Month')\n",
        "plt.title('Number of Bookings by Month and Week')\n",
        "plt.tight_layout()\n",
        "plt.show()"
      ],
      "metadata": {
        "colab": {
          "base_uri": "https://localhost:8080/",
          "height": 607
        },
        "id": "sKqJAjI-U6aj",
        "outputId": "5134d95f-6fe9-46bc-ba23-b23950eec4c3"
      },
      "execution_count": 31,
      "outputs": [
        {
          "output_type": "display_data",
          "data": {
            "text/plain": [
              "<Figure size 1000x600 with 2 Axes>"
            ],
            "image/png": "[encoded data removed]"
          },
          "metadata": {}
        }
      ]
    },
    {
      "cell_type": "markdown",
      "source": [
        "### How many nights people booking in week days?"
      ],
      "metadata": {
        "id": "huvvGW9CZbVL"
      }
    },
    {
      "cell_type": "code",
      "source": [
        "bookings_by_weekday = df.groupby(['stays_in_week_nights']).size().reset_index(name='number_of_bookings')\n",
        "bookings_by_weekday.sort_values(by='number_of_bookings', ascending=False, ignore_index=True).head(5)"
      ],
      "metadata": {
        "colab": {
          "base_uri": "https://localhost:8080/",
          "height": 206
        },
        "id": "U-NlK34QWmWH",
        "outputId": "3b9dc497-2d31-431d-b0b4-2e148385ecc9"
      },
      "execution_count": 54,
      "outputs": [
        {
          "output_type": "execute_result",
          "data": {
            "text/plain": [
              "   stays_in_week_nights  number_of_bookings\n",
              "0                     2               19960\n",
              "1                     1               16868\n",
              "2                     3               13322\n",
              "3                     5                9209\n",
              "4                     4                6115"
            ],
            "text/html": [
              "\n",
              "  <div id=\"df-55a1e96b-0b76-4a7b-b70f-e2b9c4b696ab\" class=\"colab-df-container\">\n",
              "    <div>\n",
              "<style scoped>\n",
              "    .dataframe tbody tr th:only-of-type {\n",
              "        vertical-align: middle;\n",
              "    }\n",
              "\n",
              "    .dataframe tbody tr th {\n",
              "        vertical-align: top;\n",
              "    }\n",
              "\n",
              "    .dataframe thead th {\n",
              "        text-align: right;\n",
              "    }\n",
              "</style>\n",
              "<table border=\"1\" class=\"dataframe\">\n",
              "  <thead>\n",
              "    <tr style=\"text-align: right;\">\n",
              "      <th></th>\n",
              "      <th>stays_in_week_nights</th>\n",
              "      <th>number_of_bookings</th>\n",
              "    </tr>\n",
              "  </thead>\n",
              "  <tbody>\n",
              "    <tr>\n",
              "      <th>0</th>\n",
              "      <td>2</td>\n",
              "      <td>19960</td>\n",
              "    </tr>\n",
              "    <tr>\n",
              "      <th>1</th>\n",
              "      <td>1</td>\n",
              "      <td>16868</td>\n",
              "    </tr>\n",
              "    <tr>\n",
              "      <th>2</th>\n",
              "      <td>3</td>\n",
              "      <td>13322</td>\n",
              "    </tr>\n",
              "    <tr>\n",
              "      <th>3</th>\n",
              "      <td>5</td>\n",
              "      <td>9209</td>\n",
              "    </tr>\n",
              "    <tr>\n",
              "      <th>4</th>\n",
              "      <td>4</td>\n",
              "      <td>6115</td>\n",
              "    </tr>\n",
              "  </tbody>\n",
              "</table>\n",
              "</div>\n",
              "    <div class=\"colab-df-buttons\">\n",
              "\n",
              "  <div class=\"colab-df-container\">\n",
              "    <button class=\"colab-df-convert\" onclick=\"convertToInteractive('df-55a1e96b-0b76-4a7b-b70f-e2b9c4b696ab')\"\n",
              "            title=\"Convert this dataframe to an interactive table.\"\n",
              "            style=\"display:none;\">\n",
              "\n",
              "  <svg xmlns=\"http://www.w3.org/2000/svg\" height=\"24px\" viewBox=\"0 -960 960 960\">\n",
              "    <path d=\"M120-120v-720h720v720H120Zm60-500h600v-160H180v160Zm220 220h160v-160H400v160Zm0 220h160v-160H400v160ZM180-400h160v-160H180v160Zm440 0h160v-160H620v160ZM180-180h160v-160H180v160Zm440 0h160v-160H620v160Z\"/>\n",
              "  </svg>\n",
              "    </button>\n",
              "\n",
              "  <style>\n",
              "    .colab-df-container {\n",
              "      display:flex;\n",
              "      gap: 12px;\n",
              "    }\n",
              "\n",
              "    .colab-df-convert {\n",
              "      background-color: #E8F0FE;\n",
              "      border: none;\n",
              "      border-radius: 50%;\n",
              "      cursor: pointer;\n",
              "      display: none;\n",
              "      fill: #1967D2;\n",
              "      height: 32px;\n",
              "      padding: 0 0 0 0;\n",
              "      width: 32px;\n",
              "    }\n",
              "\n",
              "    .colab-df-convert:hover {\n",
              "      background-color: #E2EBFA;\n",
              "      box-shadow: 0px 1px 2px rgba(60, 64, 67, 0.3), 0px 1px 3px 1px rgba(60, 64, 67, 0.15);\n",
              "      fill: #174EA6;\n",
              "    }\n",
              "\n",
              "    .colab-df-buttons div {\n",
              "      margin-bottom: 4px;\n",
              "    }\n",
              "\n",
              "    [theme=dark] .colab-df-convert {\n",
              "      background-color: #3B4455;\n",
              "      fill: #D2E3FC;\n",
              "    }\n",
              "\n",
              "    [theme=dark] .colab-df-convert:hover {\n",
              "      background-color: #434B5C;\n",
              "      box-shadow: 0px 1px 3px 1px rgba(0, 0, 0, 0.15);\n",
              "      filter: drop-shadow(0px 1px 2px rgba(0, 0, 0, 0.3));\n",
              "      fill: #FFFFFF;\n",
              "    }\n",
              "  </style>\n",
              "\n",
              "    <script>\n",
              "      const buttonEl =\n",
              "        document.querySelector('#df-55a1e96b-0b76-4a7b-b70f-e2b9c4b696ab button.colab-df-convert');\n",
              "      buttonEl.style.display =\n",
              "        google.colab.kernel.accessAllowed ? 'block' : 'none';\n",
              "\n",
              "      async function convertToInteractive(key) {\n",
              "        const element = document.querySelector('#df-55a1e96b-0b76-4a7b-b70f-e2b9c4b696ab');\n",
              "        const dataTable =\n",
              "          await google.colab.kernel.invokeFunction('convertToInteractive',\n",
              "                                                    [key], {});\n",
              "        if (!dataTable) return;\n",
              "\n",
              "        const docLinkHtml = 'Like what you see? Visit the ' +\n",
              "          '<a target=\"_blank\" href=https://colab.research.google.com/notebooks/data_table.ipynb>data table notebook</a>'\n",
              "          + ' to learn more about interactive tables.';\n",
              "        element.innerHTML = '';\n",
              "        dataTable['output_type'] = 'display_data';\n",
              "        await google.colab.output.renderOutput(dataTable, element);\n",
              "        const docLink = document.createElement('div');\n",
              "        docLink.innerHTML = docLinkHtml;\n",
              "        element.appendChild(docLink);\n",
              "      }\n",
              "    </script>\n",
              "  </div>\n",
              "\n",
              "\n",
              "<div id=\"df-b2de68b5-5d63-40eb-a579-2d0e43e00240\">\n",
              "  <button class=\"colab-df-quickchart\" onclick=\"quickchart('df-b2de68b5-5d63-40eb-a579-2d0e43e00240')\"\n",
              "            title=\"Suggest charts.\"\n",
              "            style=\"display:none;\">\n",
              "\n",
              "<svg xmlns=\"http://www.w3.org/2000/svg\" height=\"24px\"viewBox=\"0 0 24 24\"\n",
              "     width=\"24px\">\n",
              "    <g>\n",
              "        <path d=\"M19 3H5c-1.1 0-2 .9-2 2v14c0 1.1.9 2 2 2h14c1.1 0 2-.9 2-2V5c0-1.1-.9-2-2-2zM9 17H7v-7h2v7zm4 0h-2V7h2v10zm4 0h-2v-4h2v4z\"/>\n",
              "    </g>\n",
              "</svg>\n",
              "  </button>\n",
              "\n",
              "<style>\n",
              "  .colab-df-quickchart {\n",
              "      --bg-color: #E8F0FE;\n",
              "      --fill-color: #1967D2;\n",
              "      --hover-bg-color: #E2EBFA;\n",
              "      --hover-fill-color: #174EA6;\n",
              "      --disabled-fill-color: #AAA;\n",
              "      --disabled-bg-color: #DDD;\n",
              "  }\n",
              "\n",
              "  [theme=dark] .colab-df-quickchart {\n",
              "      --bg-color: #3B4455;\n",
              "      --fill-color: #D2E3FC;\n",
              "      --hover-bg-color: #434B5C;\n",
              "      --hover-fill-color: #FFFFFF;\n",
              "      --disabled-bg-color: #3B4455;\n",
              "      --disabled-fill-color: #666;\n",
              "  }\n",
              "\n",
              "  .colab-df-quickchart {\n",
              "    background-color: var(--bg-color);\n",
              "    border: none;\n",
              "    border-radius: 50%;\n",
              "    cursor: pointer;\n",
              "    display: none;\n",
              "    fill: var(--fill-color);\n",
              "    height: 32px;\n",
              "    padding: 0;\n",
              "    width: 32px;\n",
              "  }\n",
              "\n",
              "  .colab-df-quickchart:hover {\n",
              "    background-color: var(--hover-bg-color);\n",
              "    box-shadow: 0 1px 2px rgba(60, 64, 67, 0.3), 0 1px 3px 1px rgba(60, 64, 67, 0.15);\n",
              "    fill: var(--button-hover-fill-color);\n",
              "  }\n",
              "\n",
              "  .colab-df-quickchart-complete:disabled,\n",
              "  .colab-df-quickchart-complete:disabled:hover {\n",
              "    background-color: var(--disabled-bg-color);\n",
              "    fill: var(--disabled-fill-color);\n",
              "    box-shadow: none;\n",
              "  }\n",
              "\n",
              "  .colab-df-spinner {\n",
              "    border: 2px solid var(--fill-color);\n",
              "    border-color: transparent;\n",
              "    border-bottom-color: var(--fill-color);\n",
              "    animation:\n",
              "      spin 1s steps(1) infinite;\n",
              "  }\n",
              "\n",
              "  @keyframes spin {\n",
              "    0% {\n",
              "      border-color: transparent;\n",
              "      border-bottom-color: var(--fill-color);\n",
              "      border-left-color: var(--fill-color);\n",
              "    }\n",
              "    20% {\n",
              "      border-color: transparent;\n",
              "      border-left-color: var(--fill-color);\n",
              "      border-top-color: var(--fill-color);\n",
              "    }\n",
              "    30% {\n",
              "      border-color: transparent;\n",
              "      border-left-color: var(--fill-color);\n",
              "      border-top-color: var(--fill-color);\n",
              "      border-right-color: var(--fill-color);\n",
              "    }\n",
              "    40% {\n",
              "      border-color: transparent;\n",
              "      border-right-color: var(--fill-color);\n",
              "      border-top-color: var(--fill-color);\n",
              "    }\n",
              "    60% {\n",
              "      border-color: transparent;\n",
              "      border-right-color: var(--fill-color);\n",
              "    }\n",
              "    80% {\n",
              "      border-color: transparent;\n",
              "      border-right-color: var(--fill-color);\n",
              "      border-bottom-color: var(--fill-color);\n",
              "    }\n",
              "    90% {\n",
              "      border-color: transparent;\n",
              "      border-bottom-color: var(--fill-color);\n",
              "    }\n",
              "  }\n",
              "</style>\n",
              "\n",
              "  <script>\n",
              "    async function quickchart(key) {\n",
              "      const quickchartButtonEl =\n",
              "        document.querySelector('#' + key + ' button');\n",
              "      quickchartButtonEl.disabled = true;  // To prevent multiple clicks.\n",
              "      quickchartButtonEl.classList.add('colab-df-spinner');\n",
              "      try {\n",
              "        const charts = await google.colab.kernel.invokeFunction(\n",
              "            'suggestCharts', [key], {});\n",
              "      } catch (error) {\n",
              "        console.error('Error during call to suggestCharts:', error);\n",
              "      }\n",
              "      quickchartButtonEl.classList.remove('colab-df-spinner');\n",
              "      quickchartButtonEl.classList.add('colab-df-quickchart-complete');\n",
              "    }\n",
              "    (() => {\n",
              "      let quickchartButtonEl =\n",
              "        document.querySelector('#df-b2de68b5-5d63-40eb-a579-2d0e43e00240 button');\n",
              "      quickchartButtonEl.style.display =\n",
              "        google.colab.kernel.accessAllowed ? 'block' : 'none';\n",
              "    })();\n",
              "  </script>\n",
              "</div>\n",
              "    </div>\n",
              "  </div>\n"
            ]
          },
          "metadata": {},
          "execution_count": 54
        }
      ]
    },
    {
      "cell_type": "markdown",
      "source": [
        "### What is the best weather conditions to make people stay at the hotel?"
      ],
      "metadata": {
        "id": "FZLAzcqRca_h"
      }
    },
    {
      "cell_type": "code",
      "source": [
        "bookings_by_weather_conditions = merged_df_weather.groupby(['conditions', 'description']).size().reset_index(name='number_of_bookings')\n",
        "bookings_by_weather_conditions.sort_values(by='number_of_bookings', ascending=False, ignore_index=True).head(5)"
      ],
      "metadata": {
        "colab": {
          "base_uri": "https://localhost:8080/",
          "height": 206
        },
        "id": "FvTKR7KpcrHF",
        "outputId": "1a6ec850-ad00-4d33-fd6f-92d735511c63"
      },
      "execution_count": 53,
      "outputs": [
        {
          "output_type": "execute_result",
          "data": {
            "text/plain": [
              "               conditions                                        description  \\\n",
              "0        Partially cloudy                  Partly cloudy throughout the day.   \n",
              "1                   Clear               Clear conditions throughout the day.   \n",
              "2  Rain, Partially cloudy  Partly cloudy throughout the day with a chance...   \n",
              "3  Rain, Partially cloudy        Partly cloudy throughout the day with rain.   \n",
              "4        Partially cloudy                         Clearing in the afternoon.   \n",
              "\n",
              "   number_of_bookings  \n",
              "0               29277  \n",
              "1               20483  \n",
              "2                4586  \n",
              "3                4484  \n",
              "4                3490  "
            ],
            "text/html": [
              "\n",
              "  <div id=\"df-90afe64a-e523-4bf0-b4fa-1b8e0a644ae6\" class=\"colab-df-container\">\n",
              "    <div>\n",
              "<style scoped>\n",
              "    .dataframe tbody tr th:only-of-type {\n",
              "        vertical-align: middle;\n",
              "    }\n",
              "\n",
              "    .dataframe tbody tr th {\n",
              "        vertical-align: top;\n",
              "    }\n",
              "\n",
              "    .dataframe thead th {\n",
              "        text-align: right;\n",
              "    }\n",
              "</style>\n",
              "<table border=\"1\" class=\"dataframe\">\n",
              "  <thead>\n",
              "    <tr style=\"text-align: right;\">\n",
              "      <th></th>\n",
              "      <th>conditions</th>\n",
              "      <th>description</th>\n",
              "      <th>number_of_bookings</th>\n",
              "    </tr>\n",
              "  </thead>\n",
              "  <tbody>\n",
              "    <tr>\n",
              "      <th>0</th>\n",
              "      <td>Partially cloudy</td>\n",
              "      <td>Partly cloudy throughout the day.</td>\n",
              "      <td>29277</td>\n",
              "    </tr>\n",
              "    <tr>\n",
              "      <th>1</th>\n",
              "      <td>Clear</td>\n",
              "      <td>Clear conditions throughout the day.</td>\n",
              "      <td>20483</td>\n",
              "    </tr>\n",
              "    <tr>\n",
              "      <th>2</th>\n",
              "      <td>Rain, Partially cloudy</td>\n",
              "      <td>Partly cloudy throughout the day with a chance...</td>\n",
              "      <td>4586</td>\n",
              "    </tr>\n",
              "    <tr>\n",
              "      <th>3</th>\n",
              "      <td>Rain, Partially cloudy</td>\n",
              "      <td>Partly cloudy throughout the day with rain.</td>\n",
              "      <td>4484</td>\n",
              "    </tr>\n",
              "    <tr>\n",
              "      <th>4</th>\n",
              "      <td>Partially cloudy</td>\n",
              "      <td>Clearing in the afternoon.</td>\n",
              "      <td>3490</td>\n",
              "    </tr>\n",
              "  </tbody>\n",
              "</table>\n",
              "</div>\n",
              "    <div class=\"colab-df-buttons\">\n",
              "\n",
              "  <div class=\"colab-df-container\">\n",
              "    <button class=\"colab-df-convert\" onclick=\"convertToInteractive('df-90afe64a-e523-4bf0-b4fa-1b8e0a644ae6')\"\n",
              "            title=\"Convert this dataframe to an interactive table.\"\n",
              "            style=\"display:none;\">\n",
              "\n",
              "  <svg xmlns=\"http://www.w3.org/2000/svg\" height=\"24px\" viewBox=\"0 -960 960 960\">\n",
              "    <path d=\"M120-120v-720h720v720H120Zm60-500h600v-160H180v160Zm220 220h160v-160H400v160Zm0 220h160v-160H400v160ZM180-400h160v-160H180v160Zm440 0h160v-160H620v160ZM180-180h160v-160H180v160Zm440 0h160v-160H620v160Z\"/>\n",
              "  </svg>\n",
              "    </button>\n",
              "\n",
              "  <style>\n",
              "    .colab-df-container {\n",
              "      display:flex;\n",
              "      gap: 12px;\n",
              "    }\n",
              "\n",
              "    .colab-df-convert {\n",
              "      background-color: #E8F0FE;\n",
              "      border: none;\n",
              "      border-radius: 50%;\n",
              "      cursor: pointer;\n",
              "      display: none;\n",
              "      fill: #1967D2;\n",
              "      height: 32px;\n",
              "      padding: 0 0 0 0;\n",
              "      width: 32px;\n",
              "    }\n",
              "\n",
              "    .colab-df-convert:hover {\n",
              "      background-color: #E2EBFA;\n",
              "      box-shadow: 0px 1px 2px rgba(60, 64, 67, 0.3), 0px 1px 3px 1px rgba(60, 64, 67, 0.15);\n",
              "      fill: #174EA6;\n",
              "    }\n",
              "\n",
              "    .colab-df-buttons div {\n",
              "      margin-bottom: 4px;\n",
              "    }\n",
              "\n",
              "    [theme=dark] .colab-df-convert {\n",
              "      background-color: #3B4455;\n",
              "      fill: #D2E3FC;\n",
              "    }\n",
              "\n",
              "    [theme=dark] .colab-df-convert:hover {\n",
              "      background-color: #434B5C;\n",
              "      box-shadow: 0px 1px 3px 1px rgba(0, 0, 0, 0.15);\n",
              "      filter: drop-shadow(0px 1px 2px rgba(0, 0, 0, 0.3));\n",
              "      fill: #FFFFFF;\n",
              "    }\n",
              "  </style>\n",
              "\n",
              "    <script>\n",
              "      const buttonEl =\n",
              "        document.querySelector('#df-90afe64a-e523-4bf0-b4fa-1b8e0a644ae6 button.colab-df-convert');\n",
              "      buttonEl.style.display =\n",
              "        google.colab.kernel.accessAllowed ? 'block' : 'none';\n",
              "\n",
              "      async function convertToInteractive(key) {\n",
              "        const element = document.querySelector('#df-90afe64a-e523-4bf0-b4fa-1b8e0a644ae6');\n",
              "        const dataTable =\n",
              "          await google.colab.kernel.invokeFunction('convertToInteractive',\n",
              "                                                    [key], {});\n",
              "        if (!dataTable) return;\n",
              "\n",
              "        const docLinkHtml = 'Like what you see? Visit the ' +\n",
              "          '<a target=\"_blank\" href=https://colab.research.google.com/notebooks/data_table.ipynb>data table notebook</a>'\n",
              "          + ' to learn more about interactive tables.';\n",
              "        element.innerHTML = '';\n",
              "        dataTable['output_type'] = 'display_data';\n",
              "        await google.colab.output.renderOutput(dataTable, element);\n",
              "        const docLink = document.createElement('div');\n",
              "        docLink.innerHTML = docLinkHtml;\n",
              "        element.appendChild(docLink);\n",
              "      }\n",
              "    </script>\n",
              "  </div>\n",
              "\n",
              "\n",
              "<div id=\"df-3b8550c8-adb1-4856-a069-9d516706d69b\">\n",
              "  <button class=\"colab-df-quickchart\" onclick=\"quickchart('df-3b8550c8-adb1-4856-a069-9d516706d69b')\"\n",
              "            title=\"Suggest charts.\"\n",
              "            style=\"display:none;\">\n",
              "\n",
              "<svg xmlns=\"http://www.w3.org/2000/svg\" height=\"24px\"viewBox=\"0 0 24 24\"\n",
              "     width=\"24px\">\n",
              "    <g>\n",
              "        <path d=\"M19 3H5c-1.1 0-2 .9-2 2v14c0 1.1.9 2 2 2h14c1.1 0 2-.9 2-2V5c0-1.1-.9-2-2-2zM9 17H7v-7h2v7zm4 0h-2V7h2v10zm4 0h-2v-4h2v4z\"/>\n",
              "    </g>\n",
              "</svg>\n",
              "  </button>\n",
              "\n",
              "<style>\n",
              "  .colab-df-quickchart {\n",
              "      --bg-color: #E8F0FE;\n",
              "      --fill-color: #1967D2;\n",
              "      --hover-bg-color: #E2EBFA;\n",
              "      --hover-fill-color: #174EA6;\n",
              "      --disabled-fill-color: #AAA;\n",
              "      --disabled-bg-color: #DDD;\n",
              "  }\n",
              "\n",
              "  [theme=dark] .colab-df-quickchart {\n",
              "      --bg-color: #3B4455;\n",
              "      --fill-color: #D2E3FC;\n",
              "      --hover-bg-color: #434B5C;\n",
              "      --hover-fill-color: #FFFFFF;\n",
              "      --disabled-bg-color: #3B4455;\n",
              "      --disabled-fill-color: #666;\n",
              "  }\n",
              "\n",
              "  .colab-df-quickchart {\n",
              "    background-color: var(--bg-color);\n",
              "    border: none;\n",
              "    border-radius: 50%;\n",
              "    cursor: pointer;\n",
              "    display: none;\n",
              "    fill: var(--fill-color);\n",
              "    height: 32px;\n",
              "    padding: 0;\n",
              "    width: 32px;\n",
              "  }\n",
              "\n",
              "  .colab-df-quickchart:hover {\n",
              "    background-color: var(--hover-bg-color);\n",
              "    box-shadow: 0 1px 2px rgba(60, 64, 67, 0.3), 0 1px 3px 1px rgba(60, 64, 67, 0.15);\n",
              "    fill: var(--button-hover-fill-color);\n",
              "  }\n",
              "\n",
              "  .colab-df-quickchart-complete:disabled,\n",
              "  .colab-df-quickchart-complete:disabled:hover {\n",
              "    background-color: var(--disabled-bg-color);\n",
              "    fill: var(--disabled-fill-color);\n",
              "    box-shadow: none;\n",
              "  }\n",
              "\n",
              "  .colab-df-spinner {\n",
              "    border: 2px solid var(--fill-color);\n",
              "    border-color: transparent;\n",
              "    border-bottom-color: var(--fill-color);\n",
              "    animation:\n",
              "      spin 1s steps(1) infinite;\n",
              "  }\n",
              "\n",
              "  @keyframes spin {\n",
              "    0% {\n",
              "      border-color: transparent;\n",
              "      border-bottom-color: var(--fill-color);\n",
              "      border-left-color: var(--fill-color);\n",
              "    }\n",
              "    20% {\n",
              "      border-color: transparent;\n",
              "      border-left-color: var(--fill-color);\n",
              "      border-top-color: var(--fill-color);\n",
              "    }\n",
              "    30% {\n",
              "      border-color: transparent;\n",
              "      border-left-color: var(--fill-color);\n",
              "      border-top-color: var(--fill-color);\n",
              "      border-right-color: var(--fill-color);\n",
              "    }\n",
              "    40% {\n",
              "      border-color: transparent;\n",
              "      border-right-color: var(--fill-color);\n",
              "      border-top-color: var(--fill-color);\n",
              "    }\n",
              "    60% {\n",
              "      border-color: transparent;\n",
              "      border-right-color: var(--fill-color);\n",
              "    }\n",
              "    80% {\n",
              "      border-color: transparent;\n",
              "      border-right-color: var(--fill-color);\n",
              "      border-bottom-color: var(--fill-color);\n",
              "    }\n",
              "    90% {\n",
              "      border-color: transparent;\n",
              "      border-bottom-color: var(--fill-color);\n",
              "    }\n",
              "  }\n",
              "</style>\n",
              "\n",
              "  <script>\n",
              "    async function quickchart(key) {\n",
              "      const quickchartButtonEl =\n",
              "        document.querySelector('#' + key + ' button');\n",
              "      quickchartButtonEl.disabled = true;  // To prevent multiple clicks.\n",
              "      quickchartButtonEl.classList.add('colab-df-spinner');\n",
              "      try {\n",
              "        const charts = await google.colab.kernel.invokeFunction(\n",
              "            'suggestCharts', [key], {});\n",
              "      } catch (error) {\n",
              "        console.error('Error during call to suggestCharts:', error);\n",
              "      }\n",
              "      quickchartButtonEl.classList.remove('colab-df-spinner');\n",
              "      quickchartButtonEl.classList.add('colab-df-quickchart-complete');\n",
              "    }\n",
              "    (() => {\n",
              "      let quickchartButtonEl =\n",
              "        document.querySelector('#df-3b8550c8-adb1-4856-a069-9d516706d69b button');\n",
              "      quickchartButtonEl.style.display =\n",
              "        google.colab.kernel.accessAllowed ? 'block' : 'none';\n",
              "    })();\n",
              "  </script>\n",
              "</div>\n",
              "    </div>\n",
              "  </div>\n"
            ]
          },
          "metadata": {},
          "execution_count": 53
        }
      ]
    },
    {
      "cell_type": "markdown",
      "source": [
        "### What is the factors that influence cancelations?"
      ],
      "metadata": {
        "id": "_FTeMH4Be-Hr"
      }
    },
    {
      "cell_type": "code",
      "source": [
        "# Calculate the correlation coefficients for is_calceled column\n",
        "correlations = merged_df_weather.corr()['is_canceled'].drop('is_canceled')\n",
        "\n",
        "# Sort the correlations in descending order to identify factors that influence cancellations\n",
        "correlations_sorted = correlations.abs().sort_values(ascending=False)\n",
        "\n",
        "# Print the sorted correlations\n",
        "print(correlations_sorted.head(3))"
      ],
      "metadata": {
        "colab": {
          "base_uri": "https://localhost:8080/"
        },
        "id": "FgX6GXmOdU1h",
        "outputId": "48169f23-12c2-4bfb-fbb5-57e5c6850d90"
      },
      "execution_count": 60,
      "outputs": [
        {
          "output_type": "stream",
          "name": "stderr",
          "text": [
            "<ipython-input-60-0110522203cc>:5: FutureWarning: The default value of numeric_only in DataFrame.corr is deprecated. In a future version, it will default to False. Select only valid columns or specify the value of numeric_only to silence this warning.\n",
            "  correlations = merged_df_weather.corr()['is_canceled'].drop('is_canceled')\n"
          ]
        },
        {
          "output_type": "stream",
          "name": "stdout",
          "text": [
            "agent                          0.385415\n",
            "room_change                    0.348187\n",
            "required_car_parking_spaces    0.303638\n",
            "Name: is_canceled, dtype: float64\n"
          ]
        }
      ]
    },
    {
      "cell_type": "markdown",
      "source": [
        "#### Correlation Summary\n",
        "##### - The involvement of an agent in bookings has a positive correlation (0.385) with cancellations. This suggests that bookings made through agents may be more likely to result in cancellations.\n",
        "\n",
        "##### - Room changes are also positively correlated (0.348) with cancellations. This implies that guests who experience room changes may have a higher likelihood of canceling their reservations.\n",
        "\n",
        "##### - The requirement for car parking spaces shows a positive correlation (0.304) with cancellations. This indicates that guests who request car parking spaces in their bookings may be more prone to cancel."
      ],
      "metadata": {
        "id": "ZghLnLuvhxVj"
      }
    }
  ]
}