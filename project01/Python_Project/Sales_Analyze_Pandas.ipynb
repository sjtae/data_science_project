{
 "cells":[
  {
   "cell_type":"markdown",
   "source":[
    "# Project"
   ],
   "attachments":{
    
   },
   "metadata":{
    "datalore":{
     "node_id":"Project",
     "type":"MD",
     "hide_input_from_viewers":false,
     "hide_output_from_viewers":false,
     "sheet_delimiter":true
    }
   }
  },
  {
   "cell_type":"markdown",
   "source":[
    "# Python Project - Analyzing Sales Data\n",
    "\n",
    "**Date**: 30 March 2023\n",
    "\n",
    "**Author**: Sassawat Jaroensuk\n",
    "\n",
    "**Skill**: `Pandas` and `Numpy`"
   ],
   "attachments":{
    
   },
   "metadata":{
    "datalore":{
     "node_id":"BQYoMGKrHFkoyOZOeGBBUE",
     "type":"MD",
     "hide_input_from_viewers":false,
     "hide_output_from_viewers":false,
     "report_properties":{
      "rowId":"j9xHhrWHtYMIc24Ws60UH9",
      "relativeY":0
     }
    }
   }
  },
  {
   "cell_type":"code",
   "source":[
    "# import data\n",
    "import pandas as pd\n",
    "df = pd.read_csv(\"sample-store.csv\")"
   ],
   "execution_count":1,
   "outputs":[
    
   ],
   "metadata":{
    "datalore":{
     "node_id":"mh2KpyIcShQMZHTz8EYJo2",
     "type":"CODE",
     "hide_input_from_viewers":false,
     "hide_output_from_viewers":false,
     "report_properties":{
      "rowId":"xrBiPPpYG7CioVHFPSaDPw",
      "relativeY":0
     }
    }
   }
  },
  {
   "cell_type":"code",
   "source":[
    "# preview top 5 rows\n",
    "df.head(5)"
   ],
   "execution_count":2,
   "outputs":[
    {
     "data":{
      "text\/html":[
       "<div>\n",
       "<style scoped>\n",
       "    .dataframe tbody tr th:only-of-type {\n",
       "        vertical-align: middle;\n",
       "    }\n",
       "\n",
       "    .dataframe tbody tr th {\n",
       "        vertical-align: top;\n",
       "    }\n",
       "\n",
       "    .dataframe thead th {\n",
       "        text-align: right;\n",
       "    }\n",
       "<\/style>\n",
       "<table border=\"1\" class=\"dataframe\">\n",
       "  <thead>\n",
       "    <tr style=\"text-align: right;\">\n",
       "      <th><\/th>\n",
       "      <th>Row ID<\/th>\n",
       "      <th>Order ID<\/th>\n",
       "      <th>Order Date<\/th>\n",
       "      <th>Ship Date<\/th>\n",
       "      <th>Ship Mode<\/th>\n",
       "      <th>Customer ID<\/th>\n",
       "      <th>Customer Name<\/th>\n",
       "      <th>Segment<\/th>\n",
       "      <th>Country\/Region<\/th>\n",
       "      <th>City<\/th>\n",
       "      <th>...<\/th>\n",
       "      <th>Postal Code<\/th>\n",
       "      <th>Region<\/th>\n",
       "      <th>Product ID<\/th>\n",
       "      <th>Category<\/th>\n",
       "      <th>Sub-Category<\/th>\n",
       "      <th>Product Name<\/th>\n",
       "      <th>Sales<\/th>\n",
       "      <th>Quantity<\/th>\n",
       "      <th>Discount<\/th>\n",
       "      <th>Profit<\/th>\n",
       "    <\/tr>\n",
       "  <\/thead>\n",
       "  <tbody>\n",
       "    <tr>\n",
       "      <th>0<\/th>\n",
       "      <td>1<\/td>\n",
       "      <td>CA-2019-152156<\/td>\n",
       "      <td>11\/8\/2019<\/td>\n",
       "      <td>11\/11\/2019<\/td>\n",
       "      <td>Second Class<\/td>\n",
       "      <td>CG-12520<\/td>\n",
       "      <td>Claire Gute<\/td>\n",
       "      <td>Consumer<\/td>\n",
       "      <td>United States<\/td>\n",
       "      <td>Henderson<\/td>\n",
       "      <td>...<\/td>\n",
       "      <td>42420.0<\/td>\n",
       "      <td>South<\/td>\n",
       "      <td>FUR-BO-10001798<\/td>\n",
       "      <td>Furniture<\/td>\n",
       "      <td>Bookcases<\/td>\n",
       "      <td>Bush Somerset Collection Bookcase<\/td>\n",
       "      <td>261.9600<\/td>\n",
       "      <td>2<\/td>\n",
       "      <td>0.00<\/td>\n",
       "      <td>41.9136<\/td>\n",
       "    <\/tr>\n",
       "    <tr>\n",
       "      <th>1<\/th>\n",
       "      <td>2<\/td>\n",
       "      <td>CA-2019-152156<\/td>\n",
       "      <td>11\/8\/2019<\/td>\n",
       "      <td>11\/11\/2019<\/td>\n",
       "      <td>Second Class<\/td>\n",
       "      <td>CG-12520<\/td>\n",
       "      <td>Claire Gute<\/td>\n",
       "      <td>Consumer<\/td>\n",
       "      <td>United States<\/td>\n",
       "      <td>Henderson<\/td>\n",
       "      <td>...<\/td>\n",
       "      <td>42420.0<\/td>\n",
       "      <td>South<\/td>\n",
       "      <td>FUR-CH-10000454<\/td>\n",
       "      <td>Furniture<\/td>\n",
       "      <td>Chairs<\/td>\n",
       "      <td>Hon Deluxe Fabric Upholstered Stacking Chairs,...<\/td>\n",
       "      <td>731.9400<\/td>\n",
       "      <td>3<\/td>\n",
       "      <td>0.00<\/td>\n",
       "      <td>219.5820<\/td>\n",
       "    <\/tr>\n",
       "    <tr>\n",
       "      <th>2<\/th>\n",
       "      <td>3<\/td>\n",
       "      <td>CA-2019-138688<\/td>\n",
       "      <td>6\/12\/2019<\/td>\n",
       "      <td>6\/16\/2019<\/td>\n",
       "      <td>Second Class<\/td>\n",
       "      <td>DV-13045<\/td>\n",
       "      <td>Darrin Van Huff<\/td>\n",
       "      <td>Corporate<\/td>\n",
       "      <td>United States<\/td>\n",
       "      <td>Los Angeles<\/td>\n",
       "      <td>...<\/td>\n",
       "      <td>90036.0<\/td>\n",
       "      <td>West<\/td>\n",
       "      <td>OFF-LA-10000240<\/td>\n",
       "      <td>Office Supplies<\/td>\n",
       "      <td>Labels<\/td>\n",
       "      <td>Self-Adhesive Address Labels for Typewriters b...<\/td>\n",
       "      <td>14.6200<\/td>\n",
       "      <td>2<\/td>\n",
       "      <td>0.00<\/td>\n",
       "      <td>6.8714<\/td>\n",
       "    <\/tr>\n",
       "    <tr>\n",
       "      <th>3<\/th>\n",
       "      <td>4<\/td>\n",
       "      <td>US-2018-108966<\/td>\n",
       "      <td>10\/11\/2018<\/td>\n",
       "      <td>10\/18\/2018<\/td>\n",
       "      <td>Standard Class<\/td>\n",
       "      <td>SO-20335<\/td>\n",
       "      <td>Sean O'Donnell<\/td>\n",
       "      <td>Consumer<\/td>\n",
       "      <td>United States<\/td>\n",
       "      <td>Fort Lauderdale<\/td>\n",
       "      <td>...<\/td>\n",
       "      <td>33311.0<\/td>\n",
       "      <td>South<\/td>\n",
       "      <td>FUR-TA-10000577<\/td>\n",
       "      <td>Furniture<\/td>\n",
       "      <td>Tables<\/td>\n",
       "      <td>Bretford CR4500 Series Slim Rectangular Table<\/td>\n",
       "      <td>957.5775<\/td>\n",
       "      <td>5<\/td>\n",
       "      <td>0.45<\/td>\n",
       "      <td>-383.0310<\/td>\n",
       "    <\/tr>\n",
       "    <tr>\n",
       "      <th>4<\/th>\n",
       "      <td>5<\/td>\n",
       "      <td>US-2018-108966<\/td>\n",
       "      <td>10\/11\/2018<\/td>\n",
       "      <td>10\/18\/2018<\/td>\n",
       "      <td>Standard Class<\/td>\n",
       "      <td>SO-20335<\/td>\n",
       "      <td>Sean O'Donnell<\/td>\n",
       "      <td>Consumer<\/td>\n",
       "      <td>United States<\/td>\n",
       "      <td>Fort Lauderdale<\/td>\n",
       "      <td>...<\/td>\n",
       "      <td>33311.0<\/td>\n",
       "      <td>South<\/td>\n",
       "      <td>OFF-ST-10000760<\/td>\n",
       "      <td>Office Supplies<\/td>\n",
       "      <td>Storage<\/td>\n",
       "      <td>Eldon Fold 'N Roll Cart System<\/td>\n",
       "      <td>22.3680<\/td>\n",
       "      <td>2<\/td>\n",
       "      <td>0.20<\/td>\n",
       "      <td>2.5164<\/td>\n",
       "    <\/tr>\n",
       "  <\/tbody>\n",
       "<\/table>\n",
       "<p>5 rows × 21 columns<\/p>\n",
       "<\/div>"
      ]
     },
     "metadata":{
      
     },
     "output_type":"display_data"
    }
   ],
   "metadata":{
    "datalore":{
     "node_id":"hDxmyK4WukOan2Zq19t3t7",
     "type":"CODE",
     "hide_input_from_viewers":false,
     "hide_output_from_viewers":false,
     "report_properties":{
      "rowId":"rh9yMdPi0KLHZNC6TBwxvY",
      "relativeY":0
     }
    }
   }
  },
  {
   "cell_type":"code",
   "source":[
    "# shape of dataframe\n",
    "df.shape"
   ],
   "execution_count":3,
   "outputs":[
    {
     "data":{
      "text\/plain":[
       "(9994, 21)"
      ]
     },
     "metadata":{
      
     },
     "output_type":"display_data"
    }
   ],
   "metadata":{
    "datalore":{
     "node_id":"D1XfFqtdiXa9PYkVRSaOp4",
     "type":"CODE",
     "hide_input_from_viewers":false,
     "hide_output_from_viewers":false,
     "report_properties":{
      "rowId":"RUCu9Q2La56f1N1ogSQI7N",
      "relativeY":0
     }
    }
   }
  },
  {
   "cell_type":"code",
   "source":[
    "# see data frame information using .info()\n",
    "df.info()"
   ],
   "execution_count":4,
   "outputs":[
    {
     "name":"stdout",
     "text":[
      "<class 'pandas.core.frame.DataFrame'>\n",
      "RangeIndex: 9994 entries, 0 to 9993\n",
      "Data columns (total 21 columns):\n",
      " #   Column          Non-Null Count  Dtype  \n",
      "---  ------          --------------  -----  \n",
      " 0   Row ID          9994 non-null   int64  \n",
      " 1   Order ID        9994 non-null   object \n",
      " 2   Order Date      9994 non-null   object \n",
      " 3   Ship Date       9994 non-null   object \n",
      " 4   Ship Mode       9994 non-null   object \n",
      " 5   Customer ID     9994 non-null   object \n",
      " 6   Customer Name   9994 non-null   object \n",
      " 7   Segment         9994 non-null   object \n",
      " 8   Country\/Region  9994 non-null   object \n",
      " 9   City            9994 non-null   object \n",
      " 10  State           9994 non-null   object \n",
      " 11  Postal Code     9983 non-null   float64\n",
      " 12  Region          9994 non-null   object \n",
      " 13  Product ID      9994 non-null   object \n",
      " 14  Category        9994 non-null   object \n",
      " 15  Sub-Category    9994 non-null   object \n",
      " 16  Product Name    9994 non-null   object \n",
      " 17  Sales           9994 non-null   float64\n",
      " 18  Quantity        9994 non-null   int64  \n",
      " 19  Discount        9994 non-null   float64\n",
      " 20  Profit          9994 non-null   float64\n",
      "dtypes: float64(4), int64(2), object(15)\n",
      "memory usage: 1.6+ MB\n"
     ],
     "output_type":"stream"
    }
   ],
   "metadata":{
    "datalore":{
     "node_id":"D0EcmShBWZzZ202tDZsnq0",
     "type":"CODE",
     "hide_input_from_viewers":false,
     "hide_output_from_viewers":false,
     "report_properties":{
      "rowId":"fUQDKDJhwm5mnSaRxVdmJ0",
      "relativeY":0
     }
    }
   }
  },
  {
   "cell_type":"code",
   "source":[
    "# TODO - convert order date and ship date to datetime in the original dataframe\n",
    "df[ [\"Order Date\",\"Ship Date\"] ] = df[ [\"Order Date\",\"Ship Date\"] ].applymap(pd.to_datetime, format = \"%m\/%d\/%Y\")"
   ],
   "execution_count":5,
   "outputs":[
    
   ],
   "metadata":{
    "datalore":{
     "node_id":"KmRBPmt0AizwxJPIzA3aAy",
     "type":"CODE",
     "hide_input_from_viewers":false,
     "hide_output_from_viewers":false,
     "report_properties":{
      "rowId":"nGD2Kk76Si1omKJGo8VRAC",
      "relativeY":0
     }
    }
   }
  },
  {
   "cell_type":"code",
   "source":[
    "# TODO - count nan in postal code column\n",
    "df[\"Postal Code\"].isna().sum()"
   ],
   "execution_count":6,
   "outputs":[
    {
     "data":{
      "text\/plain":[
       "11"
      ]
     },
     "metadata":{
      
     },
     "output_type":"display_data"
    }
   ],
   "metadata":{
    "datalore":{
     "node_id":"IB2ddzVypw1KTr2iTctSlm",
     "type":"CODE",
     "hide_input_from_viewers":false,
     "hide_output_from_viewers":false,
     "report_properties":{
      "rowId":"WASG4wE18eZPgGrF1WrtMA",
      "relativeY":0
     }
    }
   }
  },
  {
   "cell_type":"code",
   "source":[
    "# TODO - filter rows with missing values\n",
    "clean_df = df.dropna()"
   ],
   "execution_count":7,
   "outputs":[
    
   ],
   "metadata":{
    "datalore":{
     "node_id":"igxL0yEI6SP2bPOkh0IiyD",
     "type":"CODE",
     "hide_input_from_viewers":false,
     "hide_output_from_viewers":false,
     "report_properties":{
      "rowId":"cLJyrBSvUIf7sXOiKfO2vx",
      "relativeY":0
     }
    }
   }
  },
  {
   "cell_type":"code",
   "source":[
    "# TODO - Explore this dataset on your owns, ask your own questions\n",
    "# fill na with avg_profit in profit column\n",
    "avg_profit = df[\"Profit\"].mean()\n",
    "df[\"Profit\"] = df[\"Profit\"].fillna(value=avg_profit)"
   ],
   "execution_count":8,
   "outputs":[
    
   ],
   "metadata":{
    "datalore":{
     "node_id":"krVVW3Xdpm4ILn2vz5LSjO",
     "type":"CODE",
     "hide_input_from_viewers":false,
     "hide_output_from_viewers":false,
     "report_properties":{
      "rowId":"eo4kjJohap4rlL22msuUUo",
      "relativeY":0
     }
    }
   }
  },
  {
   "cell_type":"code",
   "source":[
    "# pull Year from Order Date\n",
    "df[\"Year\"] = df[\"Order Date\"].dt.year"
   ],
   "execution_count":9,
   "outputs":[
    
   ],
   "metadata":{
    "datalore":{
     "node_id":"kBDfyQJ1jLFxmVeZHggrG6",
     "type":"CODE",
     "hide_input_from_viewers":true,
     "hide_output_from_viewers":true
    }
   }
  },
  {
   "cell_type":"markdown",
   "source":[
    "## Data Analysis Part"
   ],
   "attachments":{
    
   },
   "metadata":{
    "datalore":{
     "node_id":"8a2cEqh1tGTP0JYtauFlIv",
     "type":"MD",
     "hide_input_from_viewers":false,
     "hide_output_from_viewers":false,
     "report_properties":{
      "rowId":"qvcbmCbPaJC9jO5dTt2sd7",
      "relativeY":0
     }
    }
   }
  },
  {
   "cell_type":"code",
   "source":[
    "# TODO 01 - how many columns, rows in this dataset\n",
    "df.shape"
   ],
   "execution_count":10,
   "outputs":[
    {
     "data":{
      "text\/plain":[
       "(9994, 22)"
      ]
     },
     "metadata":{
      
     },
     "output_type":"display_data"
    }
   ],
   "metadata":{
    "datalore":{
     "node_id":"JDlZ4E7zsDWZsSDO9O8E61",
     "type":"CODE",
     "hide_input_from_viewers":false,
     "hide_output_from_viewers":false,
     "report_properties":{
      "rowId":"s0asDf0W0PlakUfFayqWMk",
      "relativeY":0
     }
    }
   }
  },
  {
   "cell_type":"code",
   "source":[
    "# TODO 02 - is there any missing values?, if there is, which colunm? how many nan values?\n",
    "df.isna().sum()"
   ],
   "execution_count":11,
   "outputs":[
    {
     "data":{
      "text\/html":[
       "<pre>Row ID             0\n",
       "Order ID           0\n",
       "Order Date         0\n",
       "Ship Date          0\n",
       "Ship Mode          0\n",
       "Customer ID        0\n",
       "Customer Name      0\n",
       "Segment            0\n",
       "Country\/Region     0\n",
       "City               0\n",
       "State              0\n",
       "Postal Code       11\n",
       "Region             0\n",
       "Product ID         0\n",
       "Category           0\n",
       "Sub-Category       0\n",
       "Product Name       0\n",
       "Sales              0\n",
       "Quantity           0\n",
       "Discount           0\n",
       "Profit             0\n",
       "Year               0\n",
       "dtype: int64<\/pre>"
      ]
     },
     "metadata":{
      
     },
     "output_type":"display_data"
    }
   ],
   "metadata":{
    "datalore":{
     "node_id":"3ERSmzg2ULEqz4OjnLjdOd",
     "type":"CODE",
     "hide_input_from_viewers":false,
     "hide_output_from_viewers":false,
     "report_properties":{
      "rowId":"LHbnDxB0wN1M3FxlTBGjow",
      "relativeY":0
     }
    }
   }
  },
  {
   "cell_type":"code",
   "source":[
    "# TODO 03 - your friend ask for `California` data, filter it and export csv for him\n",
    "california_data = df.query(\"State == 'California'\")\n",
    "california_data.to_csv(\"california_data.csv\")"
   ],
   "execution_count":12,
   "outputs":[
    
   ],
   "metadata":{
    "datalore":{
     "node_id":"MUroqWTYjYr5JdJLKklmxG",
     "type":"CODE",
     "hide_input_from_viewers":false,
     "hide_output_from_viewers":false,
     "report_properties":{
      "rowId":"R4yxLzIex37iO0yluNz034",
      "relativeY":0
     }
    }
   }
  },
  {
   "cell_type":"code",
   "source":[
    "# TODO 04 - your friend ask for all order data in `California` and `Texas` in 2017 (look at Order Date), send him csv file\n",
    "df[ (df[\"State\"].isin(['California','Texas'])) & (df['Order Date'].dt.year == 2017) ]"
   ],
   "execution_count":13,
   "outputs":[
    {
     "data":{
      "text\/html":[
       "<div>\n",
       "<style scoped>\n",
       "    .dataframe tbody tr th:only-of-type {\n",
       "        vertical-align: middle;\n",
       "    }\n",
       "\n",
       "    .dataframe tbody tr th {\n",
       "        vertical-align: top;\n",
       "    }\n",
       "\n",
       "    .dataframe thead th {\n",
       "        text-align: right;\n",
       "    }\n",
       "<\/style>\n",
       "<table border=\"1\" class=\"dataframe\">\n",
       "  <thead>\n",
       "    <tr style=\"text-align: right;\">\n",
       "      <th><\/th>\n",
       "      <th>Row ID<\/th>\n",
       "      <th>Order ID<\/th>\n",
       "      <th>Order Date<\/th>\n",
       "      <th>Ship Date<\/th>\n",
       "      <th>Ship Mode<\/th>\n",
       "      <th>Customer ID<\/th>\n",
       "      <th>Customer Name<\/th>\n",
       "      <th>Segment<\/th>\n",
       "      <th>Country\/Region<\/th>\n",
       "      <th>City<\/th>\n",
       "      <th>...<\/th>\n",
       "      <th>Region<\/th>\n",
       "      <th>Product ID<\/th>\n",
       "      <th>Category<\/th>\n",
       "      <th>Sub-Category<\/th>\n",
       "      <th>Product Name<\/th>\n",
       "      <th>Sales<\/th>\n",
       "      <th>Quantity<\/th>\n",
       "      <th>Discount<\/th>\n",
       "      <th>Profit<\/th>\n",
       "      <th>Year<\/th>\n",
       "    <\/tr>\n",
       "  <\/thead>\n",
       "  <tbody>\n",
       "    <tr>\n",
       "      <th>5<\/th>\n",
       "      <td>6<\/td>\n",
       "      <td>CA-2017-115812<\/td>\n",
       "      <td>2017-06-09<\/td>\n",
       "      <td>2017-06-14<\/td>\n",
       "      <td>Standard Class<\/td>\n",
       "      <td>BH-11710<\/td>\n",
       "      <td>Brosina Hoffman<\/td>\n",
       "      <td>Consumer<\/td>\n",
       "      <td>United States<\/td>\n",
       "      <td>Los Angeles<\/td>\n",
       "      <td>...<\/td>\n",
       "      <td>West<\/td>\n",
       "      <td>FUR-FU-10001487<\/td>\n",
       "      <td>Furniture<\/td>\n",
       "      <td>Furnishings<\/td>\n",
       "      <td>Eldon Expressions Wood and Plastic Desk Access...<\/td>\n",
       "      <td>48.860<\/td>\n",
       "      <td>7<\/td>\n",
       "      <td>0.0<\/td>\n",
       "      <td>14.1694<\/td>\n",
       "      <td>2017<\/td>\n",
       "    <\/tr>\n",
       "    <tr>\n",
       "      <th>6<\/th>\n",
       "      <td>7<\/td>\n",
       "      <td>CA-2017-115812<\/td>\n",
       "      <td>2017-06-09<\/td>\n",
       "      <td>2017-06-14<\/td>\n",
       "      <td>Standard Class<\/td>\n",
       "      <td>BH-11710<\/td>\n",
       "      <td>Brosina Hoffman<\/td>\n",
       "      <td>Consumer<\/td>\n",
       "      <td>United States<\/td>\n",
       "      <td>Los Angeles<\/td>\n",
       "      <td>...<\/td>\n",
       "      <td>West<\/td>\n",
       "      <td>OFF-AR-10002833<\/td>\n",
       "      <td>Office Supplies<\/td>\n",
       "      <td>Art<\/td>\n",
       "      <td>Newell 322<\/td>\n",
       "      <td>7.280<\/td>\n",
       "      <td>4<\/td>\n",
       "      <td>0.0<\/td>\n",
       "      <td>1.9656<\/td>\n",
       "      <td>2017<\/td>\n",
       "    <\/tr>\n",
       "    <tr>\n",
       "      <th>7<\/th>\n",
       "      <td>8<\/td>\n",
       "      <td>CA-2017-115812<\/td>\n",
       "      <td>2017-06-09<\/td>\n",
       "      <td>2017-06-14<\/td>\n",
       "      <td>Standard Class<\/td>\n",
       "      <td>BH-11710<\/td>\n",
       "      <td>Brosina Hoffman<\/td>\n",
       "      <td>Consumer<\/td>\n",
       "      <td>United States<\/td>\n",
       "      <td>Los Angeles<\/td>\n",
       "      <td>...<\/td>\n",
       "      <td>West<\/td>\n",
       "      <td>TEC-PH-10002275<\/td>\n",
       "      <td>Technology<\/td>\n",
       "      <td>Phones<\/td>\n",
       "      <td>Mitel 5320 IP Phone VoIP phone<\/td>\n",
       "      <td>907.152<\/td>\n",
       "      <td>6<\/td>\n",
       "      <td>0.2<\/td>\n",
       "      <td>90.7152<\/td>\n",
       "      <td>2017<\/td>\n",
       "    <\/tr>\n",
       "    <tr>\n",
       "      <th>8<\/th>\n",
       "      <td>9<\/td>\n",
       "      <td>CA-2017-115812<\/td>\n",
       "      <td>2017-06-09<\/td>\n",
       "      <td>2017-06-14<\/td>\n",
       "      <td>Standard Class<\/td>\n",
       "      <td>BH-11710<\/td>\n",
       "      <td>Brosina Hoffman<\/td>\n",
       "      <td>Consumer<\/td>\n",
       "      <td>United States<\/td>\n",
       "      <td>Los Angeles<\/td>\n",
       "      <td>...<\/td>\n",
       "      <td>West<\/td>\n",
       "      <td>OFF-BI-10003910<\/td>\n",
       "      <td>Office Supplies<\/td>\n",
       "      <td>Binders<\/td>\n",
       "      <td>DXL Angle-View Binders with Locking Rings by S...<\/td>\n",
       "      <td>18.504<\/td>\n",
       "      <td>3<\/td>\n",
       "      <td>0.2<\/td>\n",
       "      <td>5.7825<\/td>\n",
       "      <td>2017<\/td>\n",
       "    <\/tr>\n",
       "    <tr>\n",
       "      <th>9<\/th>\n",
       "      <td>10<\/td>\n",
       "      <td>CA-2017-115812<\/td>\n",
       "      <td>2017-06-09<\/td>\n",
       "      <td>2017-06-14<\/td>\n",
       "      <td>Standard Class<\/td>\n",
       "      <td>BH-11710<\/td>\n",
       "      <td>Brosina Hoffman<\/td>\n",
       "      <td>Consumer<\/td>\n",
       "      <td>United States<\/td>\n",
       "      <td>Los Angeles<\/td>\n",
       "      <td>...<\/td>\n",
       "      <td>West<\/td>\n",
       "      <td>OFF-AP-10002892<\/td>\n",
       "      <td>Office Supplies<\/td>\n",
       "      <td>Appliances<\/td>\n",
       "      <td>Belkin F5C206VTEL 6 Outlet Surge<\/td>\n",
       "      <td>114.900<\/td>\n",
       "      <td>5<\/td>\n",
       "      <td>0.0<\/td>\n",
       "      <td>34.4700<\/td>\n",
       "      <td>2017<\/td>\n",
       "    <\/tr>\n",
       "    <tr>\n",
       "      <th>...<\/th>\n",
       "      <td>...<\/td>\n",
       "      <td>...<\/td>\n",
       "      <td>...<\/td>\n",
       "      <td>...<\/td>\n",
       "      <td>...<\/td>\n",
       "      <td>...<\/td>\n",
       "      <td>...<\/td>\n",
       "      <td>...<\/td>\n",
       "      <td>...<\/td>\n",
       "      <td>...<\/td>\n",
       "      <td>...<\/td>\n",
       "      <td>...<\/td>\n",
       "      <td>...<\/td>\n",
       "      <td>...<\/td>\n",
       "      <td>...<\/td>\n",
       "      <td>...<\/td>\n",
       "      <td>...<\/td>\n",
       "      <td>...<\/td>\n",
       "      <td>...<\/td>\n",
       "      <td>...<\/td>\n",
       "      <td>...<\/td>\n",
       "    <\/tr>\n",
       "    <tr>\n",
       "      <th>9885<\/th>\n",
       "      <td>9886<\/td>\n",
       "      <td>CA-2017-112291<\/td>\n",
       "      <td>2017-04-03<\/td>\n",
       "      <td>2017-04-08<\/td>\n",
       "      <td>Standard Class<\/td>\n",
       "      <td>KE-16420<\/td>\n",
       "      <td>Katrina Edelman<\/td>\n",
       "      <td>Corporate<\/td>\n",
       "      <td>United States<\/td>\n",
       "      <td>Los Angeles<\/td>\n",
       "      <td>...<\/td>\n",
       "      <td>West<\/td>\n",
       "      <td>TEC-AC-10000736<\/td>\n",
       "      <td>Technology<\/td>\n",
       "      <td>Accessories<\/td>\n",
       "      <td>Logitech G600 MMO Gaming Mouse<\/td>\n",
       "      <td>159.980<\/td>\n",
       "      <td>2<\/td>\n",
       "      <td>0.0<\/td>\n",
       "      <td>57.5928<\/td>\n",
       "      <td>2017<\/td>\n",
       "    <\/tr>\n",
       "    <tr>\n",
       "      <th>9903<\/th>\n",
       "      <td>9904<\/td>\n",
       "      <td>CA-2017-122609<\/td>\n",
       "      <td>2017-11-12<\/td>\n",
       "      <td>2017-11-18<\/td>\n",
       "      <td>Standard Class<\/td>\n",
       "      <td>DP-13000<\/td>\n",
       "      <td>Darren Powers<\/td>\n",
       "      <td>Consumer<\/td>\n",
       "      <td>United States<\/td>\n",
       "      <td>Carrollton<\/td>\n",
       "      <td>...<\/td>\n",
       "      <td>Central<\/td>\n",
       "      <td>FUR-FU-10004587<\/td>\n",
       "      <td>Furniture<\/td>\n",
       "      <td>Furnishings<\/td>\n",
       "      <td>GE General Use Halogen Bulbs, 100 Watts, 1 Bul...<\/td>\n",
       "      <td>25.128<\/td>\n",
       "      <td>3<\/td>\n",
       "      <td>0.6<\/td>\n",
       "      <td>-6.9102<\/td>\n",
       "      <td>2017<\/td>\n",
       "    <\/tr>\n",
       "    <tr>\n",
       "      <th>9904<\/th>\n",
       "      <td>9905<\/td>\n",
       "      <td>CA-2017-122609<\/td>\n",
       "      <td>2017-11-12<\/td>\n",
       "      <td>2017-11-18<\/td>\n",
       "      <td>Standard Class<\/td>\n",
       "      <td>DP-13000<\/td>\n",
       "      <td>Darren Powers<\/td>\n",
       "      <td>Consumer<\/td>\n",
       "      <td>United States<\/td>\n",
       "      <td>Carrollton<\/td>\n",
       "      <td>...<\/td>\n",
       "      <td>Central<\/td>\n",
       "      <td>TEC-AC-10002567<\/td>\n",
       "      <td>Technology<\/td>\n",
       "      <td>Accessories<\/td>\n",
       "      <td>Logitech G602 Wireless Gaming Mouse<\/td>\n",
       "      <td>127.984<\/td>\n",
       "      <td>2<\/td>\n",
       "      <td>0.2<\/td>\n",
       "      <td>25.5968<\/td>\n",
       "      <td>2017<\/td>\n",
       "    <\/tr>\n",
       "    <tr>\n",
       "      <th>9942<\/th>\n",
       "      <td>9943<\/td>\n",
       "      <td>CA-2017-143371<\/td>\n",
       "      <td>2017-12-28<\/td>\n",
       "      <td>2018-01-03<\/td>\n",
       "      <td>Standard Class<\/td>\n",
       "      <td>MD-17350<\/td>\n",
       "      <td>Maribeth Dona<\/td>\n",
       "      <td>Consumer<\/td>\n",
       "      <td>United States<\/td>\n",
       "      <td>Anaheim<\/td>\n",
       "      <td>...<\/td>\n",
       "      <td>West<\/td>\n",
       "      <td>OFF-ST-10001128<\/td>\n",
       "      <td>Office Supplies<\/td>\n",
       "      <td>Storage<\/td>\n",
       "      <td>Carina Mini System Audio Rack, Model AR050B<\/td>\n",
       "      <td>998.820<\/td>\n",
       "      <td>9<\/td>\n",
       "      <td>0.0<\/td>\n",
       "      <td>29.9646<\/td>\n",
       "      <td>2017<\/td>\n",
       "    <\/tr>\n",
       "    <tr>\n",
       "      <th>9943<\/th>\n",
       "      <td>9944<\/td>\n",
       "      <td>CA-2017-143371<\/td>\n",
       "      <td>2017-12-28<\/td>\n",
       "      <td>2018-01-03<\/td>\n",
       "      <td>Standard Class<\/td>\n",
       "      <td>MD-17350<\/td>\n",
       "      <td>Maribeth Dona<\/td>\n",
       "      <td>Consumer<\/td>\n",
       "      <td>United States<\/td>\n",
       "      <td>Anaheim<\/td>\n",
       "      <td>...<\/td>\n",
       "      <td>West<\/td>\n",
       "      <td>OFF-SU-10002537<\/td>\n",
       "      <td>Office Supplies<\/td>\n",
       "      <td>Supplies<\/td>\n",
       "      <td>Acme Box Cutter Scissors<\/td>\n",
       "      <td>51.150<\/td>\n",
       "      <td>5<\/td>\n",
       "      <td>0.0<\/td>\n",
       "      <td>13.2990<\/td>\n",
       "      <td>2017<\/td>\n",
       "    <\/tr>\n",
       "  <\/tbody>\n",
       "<\/table>\n",
       "<p>632 rows × 22 columns<\/p>\n",
       "<\/div>"
      ]
     },
     "metadata":{
      
     },
     "output_type":"display_data"
    }
   ],
   "metadata":{
    "datalore":{
     "node_id":"kFkj8wxynTkh4FLHQlLURQ",
     "type":"CODE",
     "hide_input_from_viewers":false,
     "hide_output_from_viewers":false,
     "report_properties":{
      "rowId":"iIyRJDE56UiNksPNx0Hiwm",
      "relativeY":0
     }
    }
   }
  },
  {
   "cell_type":"code",
   "source":[
    "# TODO 05 - how much total sales, average sales, and standard deviation of sales your company make in 2017\n",
    "year_2017 = df[df[\"Order Date\"].dt.year == 2017]\n",
    "year_2017.groupby(\"Year\")[\"Sales\"].agg([\"sum\",\"mean\",\"std\"])"
   ],
   "execution_count":14,
   "outputs":[
    {
     "data":{
      "text\/html":[
       "<div>\n",
       "<style scoped>\n",
       "    .dataframe tbody tr th:only-of-type {\n",
       "        vertical-align: middle;\n",
       "    }\n",
       "\n",
       "    .dataframe tbody tr th {\n",
       "        vertical-align: top;\n",
       "    }\n",
       "\n",
       "    .dataframe thead th {\n",
       "        text-align: right;\n",
       "    }\n",
       "<\/style>\n",
       "<table border=\"1\" class=\"dataframe\">\n",
       "  <thead>\n",
       "    <tr style=\"text-align: right;\">\n",
       "      <th><\/th>\n",
       "      <th>sum<\/th>\n",
       "      <th>mean<\/th>\n",
       "      <th>std<\/th>\n",
       "    <\/tr>\n",
       "    <tr>\n",
       "      <th>Year<\/th>\n",
       "      <th><\/th>\n",
       "      <th><\/th>\n",
       "      <th><\/th>\n",
       "    <\/tr>\n",
       "  <\/thead>\n",
       "  <tbody>\n",
       "    <tr>\n",
       "      <th>2017<\/th>\n",
       "      <td>484247.4981<\/td>\n",
       "      <td>242.974159<\/td>\n",
       "      <td>754.053357<\/td>\n",
       "    <\/tr>\n",
       "  <\/tbody>\n",
       "<\/table>\n",
       "<\/div>"
      ]
     },
     "metadata":{
      
     },
     "output_type":"display_data"
    }
   ],
   "metadata":{
    "datalore":{
     "node_id":"3KT5M5X7ECseiPmJjSILrb",
     "type":"CODE",
     "hide_input_from_viewers":false,
     "hide_output_from_viewers":false,
     "report_properties":{
      "rowId":"WcsafoBUyb1WCCweBkC3Ea",
      "relativeY":0
     }
    }
   }
  },
  {
   "cell_type":"code",
   "source":[
    "# 06 - which Segment has the highest profit in 2018\n",
    "year_2018 = df[df[\"Order Date\"].dt.year == 2018]\n",
    "highest_profit_2018 = year_2018.groupby([\"Year\",\"Segment\"])[\"Profit\"].agg(\"sum\").reset_index()\n",
    "highest_profit_2018"
   ],
   "execution_count":15,
   "outputs":[
    {
     "data":{
      "text\/html":[
       "<div>\n",
       "<style scoped>\n",
       "    .dataframe tbody tr th:only-of-type {\n",
       "        vertical-align: middle;\n",
       "    }\n",
       "\n",
       "    .dataframe tbody tr th {\n",
       "        vertical-align: top;\n",
       "    }\n",
       "\n",
       "    .dataframe thead th {\n",
       "        text-align: right;\n",
       "    }\n",
       "<\/style>\n",
       "<table border=\"1\" class=\"dataframe\">\n",
       "  <thead>\n",
       "    <tr style=\"text-align: right;\">\n",
       "      <th><\/th>\n",
       "      <th>Year<\/th>\n",
       "      <th>Segment<\/th>\n",
       "      <th>Profit<\/th>\n",
       "    <\/tr>\n",
       "  <\/thead>\n",
       "  <tbody>\n",
       "    <tr>\n",
       "      <th>0<\/th>\n",
       "      <td>2018<\/td>\n",
       "      <td>Consumer<\/td>\n",
       "      <td>28460.1665<\/td>\n",
       "    <\/tr>\n",
       "    <tr>\n",
       "      <th>1<\/th>\n",
       "      <td>2018<\/td>\n",
       "      <td>Corporate<\/td>\n",
       "      <td>20688.3248<\/td>\n",
       "    <\/tr>\n",
       "    <tr>\n",
       "      <th>2<\/th>\n",
       "      <td>2018<\/td>\n",
       "      <td>Home Office<\/td>\n",
       "      <td>12470.1124<\/td>\n",
       "    <\/tr>\n",
       "  <\/tbody>\n",
       "<\/table>\n",
       "<\/div>"
      ]
     },
     "metadata":{
      
     },
     "output_type":"display_data"
    }
   ],
   "metadata":{
    "datalore":{
     "node_id":"yUlSOptyqcrXVMgFGtRZWu",
     "type":"CODE",
     "hide_input_from_viewers":false,
     "hide_output_from_viewers":false,
     "report_properties":{
      "rowId":"SRos4KnBsgsY8zQOiHXLtk",
      "relativeY":0
     }
    }
   }
  },
  {
   "cell_type":"code",
   "source":[
    "# 07 - which top 5 States have the least total sales between 15 April 2019 - 31 December 2019\n",
    "date_range = df[df[\"Order Date\"].isin(pd.date_range(\"2019-04-15 00:00:00\",\"2019-12-31 00:00:00\"))]\n",
    "date_range.groupby(\"State\")[\"Sales\"].agg(\"sum\").sort_values().head() # sort values doesn't need input if it was aggreagate table"
   ],
   "execution_count":16,
   "outputs":[
    {
     "data":{
      "text\/html":[
       "<pre>State\n",
       "New Hampshire            49.05\n",
       "New Mexico               64.08\n",
       "District of Columbia    117.07\n",
       "Louisiana               249.80\n",
       "South Carolina          502.48\n",
       "Name: Sales, dtype: float64<\/pre>"
      ]
     },
     "metadata":{
      
     },
     "output_type":"display_data"
    }
   ],
   "metadata":{
    "datalore":{
     "node_id":"F8PCNxHmYZmmldnjS92YOP",
     "type":"CODE",
     "hide_input_from_viewers":false,
     "hide_output_from_viewers":false,
     "report_properties":{
      "rowId":"YKQk246x0XzkqI3bqHHnap",
      "relativeY":0
     }
    }
   }
  },
  {
   "cell_type":"code",
   "source":[
    "# 08 - what is the proportion of total sales (%) in West + Central in 2019 e.g. 25% \n",
    "df2 = df.query(\"Year == 2019\")\n",
    "region_sales = df2.groupby(\"Region\")[\"Sales\"].agg(\"sum\")\n",
    "west_cen = region_sales[ [\"Central\",\"West\"] ].sum()\n",
    "sum_region = region_sales.sum()\n",
    "print((west_cen \/ sum_region) * 100 , \"%\")"
   ],
   "execution_count":17,
   "outputs":[
    {
     "name":"stdout",
     "text":[
      "54.97479891837763 %\n"
     ],
     "output_type":"stream"
    }
   ],
   "metadata":{
    "datalore":{
     "node_id":"BgjfNYS1XB6BrBSKqIygtt",
     "type":"CODE",
     "hide_input_from_viewers":false,
     "hide_output_from_viewers":false,
     "report_properties":{
      "rowId":"2cWKs5j3eKIMYjG4pE8bKt",
      "relativeY":0
     }
    }
   }
  },
  {
   "cell_type":"code",
   "source":[
    "# 09 - find top 10 popular products in terms of number of orders vs. total sales during 2019-2020\n",
    "year19_20 = df.query(\"Year == [2019,2020]\").sort_values(\"Year\")\n",
    "year19_20.groupby(\"Product Name\")[ [\"Sales\"] ].agg( [\"count\",\"sum\"] )\\\n",
    "    .sort_values(by=[(\"Sales\",\"count\"), (\"Sales\",\"sum\")],ascending=False)\\\n",
    "    .reset_index().head(10)"
   ],
   "execution_count":18,
   "outputs":[
    {
     "data":{
      "text\/html":[
       "<div>\n",
       "<style scoped>\n",
       "    .dataframe tbody tr th:only-of-type {\n",
       "        vertical-align: middle;\n",
       "    }\n",
       "\n",
       "    .dataframe tbody tr th {\n",
       "        vertical-align: top;\n",
       "    }\n",
       "\n",
       "    .dataframe thead tr th {\n",
       "        text-align: left;\n",
       "    }\n",
       "<\/style>\n",
       "<table border=\"1\" class=\"dataframe\">\n",
       "  <thead>\n",
       "    <tr>\n",
       "      <th><\/th>\n",
       "      <th>Product Name<\/th>\n",
       "      <th colspan=\"2\" halign=\"left\">Sales<\/th>\n",
       "    <\/tr>\n",
       "    <tr>\n",
       "      <th><\/th>\n",
       "      <th><\/th>\n",
       "      <th>count<\/th>\n",
       "      <th>sum<\/th>\n",
       "    <\/tr>\n",
       "  <\/thead>\n",
       "  <tbody>\n",
       "    <tr>\n",
       "      <th>0<\/th>\n",
       "      <td>Easy-staple paper<\/td>\n",
       "      <td>27<\/td>\n",
       "      <td>1481.728<\/td>\n",
       "    <\/tr>\n",
       "    <tr>\n",
       "      <th>1<\/th>\n",
       "      <td>Staples<\/td>\n",
       "      <td>24<\/td>\n",
       "      <td>462.068<\/td>\n",
       "    <\/tr>\n",
       "    <tr>\n",
       "      <th>2<\/th>\n",
       "      <td>Staple envelope<\/td>\n",
       "      <td>22<\/td>\n",
       "      <td>644.936<\/td>\n",
       "    <\/tr>\n",
       "    <tr>\n",
       "      <th>3<\/th>\n",
       "      <td>Staples in misc. colors<\/td>\n",
       "      <td>13<\/td>\n",
       "      <td>357.164<\/td>\n",
       "    <\/tr>\n",
       "    <tr>\n",
       "      <th>4<\/th>\n",
       "      <td>Chromcraft Round Conference Tables<\/td>\n",
       "      <td>12<\/td>\n",
       "      <td>7965.053<\/td>\n",
       "    <\/tr>\n",
       "    <tr>\n",
       "      <th>5<\/th>\n",
       "      <td>Staple remover<\/td>\n",
       "      <td>12<\/td>\n",
       "      <td>204.512<\/td>\n",
       "    <\/tr>\n",
       "    <tr>\n",
       "      <th>6<\/th>\n",
       "      <td>Storex Dura Pro Binders<\/td>\n",
       "      <td>12<\/td>\n",
       "      <td>176.418<\/td>\n",
       "    <\/tr>\n",
       "    <tr>\n",
       "      <th>7<\/th>\n",
       "      <td>Global Wood Trimmed Manager's Task Chair, Khaki<\/td>\n",
       "      <td>11<\/td>\n",
       "      <td>2793.086<\/td>\n",
       "    <\/tr>\n",
       "    <tr>\n",
       "      <th>8<\/th>\n",
       "      <td>Avery Non-Stick Binders<\/td>\n",
       "      <td>11<\/td>\n",
       "      <td>122.128<\/td>\n",
       "    <\/tr>\n",
       "    <tr>\n",
       "      <th>9<\/th>\n",
       "      <td>Sterilite Officeware Hinged File Box<\/td>\n",
       "      <td>10<\/td>\n",
       "      <td>314.400<\/td>\n",
       "    <\/tr>\n",
       "  <\/tbody>\n",
       "<\/table>\n",
       "<\/div>"
      ]
     },
     "metadata":{
      
     },
     "output_type":"display_data"
    }
   ],
   "metadata":{
    "datalore":{
     "node_id":"Pbnnh1qScfxm9rFG7uhxWG",
     "type":"CODE",
     "hide_input_from_viewers":false,
     "hide_output_from_viewers":false,
     "report_properties":{
      "rowId":"m80UXY42dlPrU4pdMpdXA2",
      "relativeY":0
     }
    }
   }
  },
  {
   "cell_type":"code",
   "source":[
    "# 10 - plot at least 2 plots, any plot you think interesting :)\n",
    "df[ [\"Profit\",\"Sales\"] ].plot(kind=\"hist\")\n",
    "df[ [\"Sales\",\"Quantity\"] ].plot(x = \"Sales\",y = \"Quantity\",kind = \"scatter\",color=\"red\")"
   ],
   "execution_count":19,
   "outputs":[
    {
     "data":{
      "text\/plain":[
       "<Axes: xlabel='Sales', ylabel='Quantity'>"
      ]
     },
     "metadata":{
      
     },
     "output_type":"display_data"
    },
    {
     "data":{
      "image\/png":"[encoded data removed]"
     },
     "metadata":{
      "image\/png":{
       
      }
     },
     "output_type":"display_data"
    },
    {
     "data":{
      "image\/png":"[encoded data removed]"
     },
     "metadata":{
      "image\/png":{
       
      }
     },
     "output_type":"display_data"
    }
   ],
   "metadata":{
    "datalore":{
     "node_id":"BSvLBp9D14sa6MqpGaKEiD",
     "type":"CODE",
     "hide_input_from_viewers":false,
     "hide_output_from_viewers":false,
     "report_properties":{
      "rowId":"Mi74GlhBsLXyL9RYi1mpWD",
      "relativeY":0
     }
    }
   }
  },
  {
   "cell_type":"code",
   "source":[
    "import numpy as np"
   ],
   "execution_count":20,
   "outputs":[
    
   ],
   "metadata":{
    "datalore":{
     "node_id":"PgKZimTN2ylMovMcsPF5P0",
     "type":"CODE",
     "hide_input_from_viewers":false,
     "hide_output_from_viewers":false,
     "report_properties":{
      "rowId":"Jxw0f8ZcAaiNssX82Lnppv",
      "relativeY":0
     }
    }
   }
  },
  {
   "cell_type":"code",
   "source":[
    "# find top 10 products sold with the most discount\n",
    "df[\"hasdiscount\"] = np.where(df[\"Discount\"] > 0,True,False)\n",
    "dc_products = df[df[\"hasdiscount\"]]\n",
    "dc_products.groupby(\"Product Name\")[\"Discount\"].agg(\"sum\")\\\n",
    "    .sort_values(ascending=False).head(10)"
   ],
   "execution_count":21,
   "outputs":[
    {
     "data":{
      "text\/html":[
       "<pre>Product Name\n",
       "Storex Dura Pro Binders                                           7.2\n",
       "Avery Non-Stick Binders                                           6.8\n",
       "GBC Instant Report Kit                                            6.4\n",
       "Avery Self-Adhesive Photo Pockets for Polaroid Photos             5.9\n",
       "GBC Standard Recycled Report Covers, Clear Plastic Sheets         5.9\n",
       "GBC Standard Therm-A-Bind Covers                                  5.8\n",
       "Premier Elliptical Ring Binder, Black                             5.8\n",
       "GBC Premium Transparent Covers with Diagonal Lined Pattern        5.6\n",
       "Acco D-Ring Binder w\/DublLock                                     5.6\n",
       "Pressboard Covers with Storage Hooks, 9 1\/2\" x 11\", Light Blue    5.4\n",
       "Name: Discount, dtype: float64<\/pre>"
      ]
     },
     "metadata":{
      
     },
     "output_type":"display_data"
    }
   ],
   "metadata":{
    "datalore":{
     "node_id":"JMyGQaAhSoXrmDYUJg6Poy",
     "type":"CODE",
     "hide_input_from_viewers":false,
     "hide_output_from_viewers":false,
     "report_properties":{
      "rowId":"4UMiRk4FPME8mqmixbpeVF",
      "relativeY":0
     }
    }
   }
  }
 ],
 "metadata":{
  "kernelspec":{
   "display_name":"Python",
   "language":"python",
   "name":"python"
  },
  "datalore":{
   "computation_mode":"JUPYTER",
   "package_manager":"pip",
   "base_environment":"default",
   "packages":[
    
   ],
   "report_row_ids":[
    "j9xHhrWHtYMIc24Ws60UH9",
    "xrBiPPpYG7CioVHFPSaDPw",
    "rh9yMdPi0KLHZNC6TBwxvY",
    "RUCu9Q2La56f1N1ogSQI7N",
    "fUQDKDJhwm5mnSaRxVdmJ0",
    "nGD2Kk76Si1omKJGo8VRAC",
    "WASG4wE18eZPgGrF1WrtMA",
    "cLJyrBSvUIf7sXOiKfO2vx",
    "eo4kjJohap4rlL22msuUUo",
    "qvcbmCbPaJC9jO5dTt2sd7",
    "s0asDf0W0PlakUfFayqWMk",
    "LHbnDxB0wN1M3FxlTBGjow",
    "R4yxLzIex37iO0yluNz034",
    "iIyRJDE56UiNksPNx0Hiwm",
    "WcsafoBUyb1WCCweBkC3Ea",
    "SRos4KnBsgsY8zQOiHXLtk",
    "YKQk246x0XzkqI3bqHHnap",
    "2cWKs5j3eKIMYjG4pE8bKt",
    "m80UXY42dlPrU4pdMpdXA2",
    "Mi74GlhBsLXyL9RYi1mpWD",
    "Jxw0f8ZcAaiNssX82Lnppv",
    "4UMiRk4FPME8mqmixbpeVF"
   ],
   "version":3
  }
 },
 "nbformat":4,
 "nbformat_minor":4
}