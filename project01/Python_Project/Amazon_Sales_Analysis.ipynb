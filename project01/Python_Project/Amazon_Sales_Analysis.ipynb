{
  "nbformat": 4,
  "nbformat_minor": 0,
  "metadata": {
    "colab": {
      "provenance": [],
      "authorship_tag": "ABX9TyMF5tm2ypmyOhFgBuTnKVwt",
      "include_colab_link": true
    },
    "kernelspec": {
      "name": "python3",
      "display_name": "Python 3"
    },
    "language_info": {
      "name": "python"
    }
  },
  "cells": [
    {
      "cell_type": "markdown",
      "metadata": {
        "id": "view-in-github",
        "colab_type": "text"
      },
      "source": [
        "<a href=\"https://colab.research.google.com/github/sjtae/data_science_project/blob/main/project01/Python_Project/Amazon_Sales_Analysis.ipynb\" target=\"_parent\"><img src=\"https://colab.research.google.com/assets/colab-badge.svg\" alt=\"Open In Colab\"/></a>"
      ]
    },
    {
      "cell_type": "markdown",
      "source": [
        "# Amazon Sales Analysis\n"
      ],
      "metadata": {
        "id": "vAj2PIt-fwY9"
      }
    },
    {
      "cell_type": "code",
      "execution_count": 251,
      "metadata": {
        "id": "oTUUpCih5awl"
      },
      "outputs": [],
      "source": [
        "# Necessary libraries\n",
        "import pandas as pd\n",
        "import numpy as np\n",
        "import re\n",
        "from bs4 import BeautifulSoup\n",
        "import nltk\n",
        "from nltk.sentiment import SentimentIntensityAnalyzer"
      ]
    },
    {
      "cell_type": "code",
      "source": [
        "df = pd.read_csv('amazon.csv')\n",
        "df = pd.DataFrame(df)"
      ],
      "metadata": {
        "id": "JPiuoVQv51hC"
      },
      "execution_count": 252,
      "outputs": []
    },
    {
      "cell_type": "markdown",
      "source": [
        "## Data Preprocessing"
      ],
      "metadata": {
        "id": "xYKP9tqXg2DD"
      }
    },
    {
      "cell_type": "markdown",
      "source": [
        "### Entangle the category column"
      ],
      "metadata": {
        "id": "ra_kGfQjgDdS"
      }
    },
    {
      "cell_type": "code",
      "source": [
        "def split_category(category):\n",
        "    categories = category.split('|')\n",
        "    root_category = categories[0]\n",
        "    sub_category = categories[-1] if len(categories) > 1 else None\n",
        "    return root_category, sub_category\n",
        "\n",
        "# Apply the function and create new columns\n",
        "df[['category', 'sub-category']] = df['category'].apply(split_category).apply(pd.Series)"
      ],
      "metadata": {
        "id": "yK_STd0m6lt3"
      },
      "execution_count": 253,
      "outputs": []
    },
    {
      "cell_type": "code",
      "source": [
        "df[['category','sub-category']]"
      ],
      "metadata": {
        "colab": {
          "base_uri": "https://localhost:8080/",
          "height": 423
        },
        "id": "Ynv0mD3d6nEd",
        "outputId": "8240a020-3fa6-4cd9-a3ee-28c692fb26c9"
      },
      "execution_count": 254,
      "outputs": [
        {
          "output_type": "execute_result",
          "data": {
            "text/plain": [
              "                   category              sub-category\n",
              "0     Computers&Accessories                 USBCables\n",
              "1     Computers&Accessories                 USBCables\n",
              "2     Computers&Accessories                 USBCables\n",
              "3     Computers&Accessories                 USBCables\n",
              "4     Computers&Accessories                 USBCables\n",
              "...                     ...                       ...\n",
              "1460           Home&Kitchen  WaterPurifierAccessories\n",
              "1461           Home&Kitchen         Rice&PastaCookers\n",
              "1462           Home&Kitchen            HeatConvectors\n",
              "1463           Home&Kitchen               ExhaustFans\n",
              "1464           Home&Kitchen            SandwichMakers\n",
              "\n",
              "[1465 rows x 2 columns]"
            ],
            "text/html": [
              "\n",
              "  <div id=\"df-671fd882-942f-4c7b-89af-71f245b57600\" class=\"colab-df-container\">\n",
              "    <div>\n",
              "<style scoped>\n",
              "    .dataframe tbody tr th:only-of-type {\n",
              "        vertical-align: middle;\n",
              "    }\n",
              "\n",
              "    .dataframe tbody tr th {\n",
              "        vertical-align: top;\n",
              "    }\n",
              "\n",
              "    .dataframe thead th {\n",
              "        text-align: right;\n",
              "    }\n",
              "</style>\n",
              "<table border=\"1\" class=\"dataframe\">\n",
              "  <thead>\n",
              "    <tr style=\"text-align: right;\">\n",
              "      <th></th>\n",
              "      <th>category</th>\n",
              "      <th>sub-category</th>\n",
              "    </tr>\n",
              "  </thead>\n",
              "  <tbody>\n",
              "    <tr>\n",
              "      <th>0</th>\n",
              "      <td>Computers&amp;Accessories</td>\n",
              "      <td>USBCables</td>\n",
              "    </tr>\n",
              "    <tr>\n",
              "      <th>1</th>\n",
              "      <td>Computers&amp;Accessories</td>\n",
              "      <td>USBCables</td>\n",
              "    </tr>\n",
              "    <tr>\n",
              "      <th>2</th>\n",
              "      <td>Computers&amp;Accessories</td>\n",
              "      <td>USBCables</td>\n",
              "    </tr>\n",
              "    <tr>\n",
              "      <th>3</th>\n",
              "      <td>Computers&amp;Accessories</td>\n",
              "      <td>USBCables</td>\n",
              "    </tr>\n",
              "    <tr>\n",
              "      <th>4</th>\n",
              "      <td>Computers&amp;Accessories</td>\n",
              "      <td>USBCables</td>\n",
              "    </tr>\n",
              "    <tr>\n",
              "      <th>...</th>\n",
              "      <td>...</td>\n",
              "      <td>...</td>\n",
              "    </tr>\n",
              "    <tr>\n",
              "      <th>1460</th>\n",
              "      <td>Home&amp;Kitchen</td>\n",
              "      <td>WaterPurifierAccessories</td>\n",
              "    </tr>\n",
              "    <tr>\n",
              "      <th>1461</th>\n",
              "      <td>Home&amp;Kitchen</td>\n",
              "      <td>Rice&amp;PastaCookers</td>\n",
              "    </tr>\n",
              "    <tr>\n",
              "      <th>1462</th>\n",
              "      <td>Home&amp;Kitchen</td>\n",
              "      <td>HeatConvectors</td>\n",
              "    </tr>\n",
              "    <tr>\n",
              "      <th>1463</th>\n",
              "      <td>Home&amp;Kitchen</td>\n",
              "      <td>ExhaustFans</td>\n",
              "    </tr>\n",
              "    <tr>\n",
              "      <th>1464</th>\n",
              "      <td>Home&amp;Kitchen</td>\n",
              "      <td>SandwichMakers</td>\n",
              "    </tr>\n",
              "  </tbody>\n",
              "</table>\n",
              "<p>1465 rows × 2 columns</p>\n",
              "</div>\n",
              "    <div class=\"colab-df-buttons\">\n",
              "\n",
              "  <div class=\"colab-df-container\">\n",
              "    <button class=\"colab-df-convert\" onclick=\"convertToInteractive('df-671fd882-942f-4c7b-89af-71f245b57600')\"\n",
              "            title=\"Convert this dataframe to an interactive table.\"\n",
              "            style=\"display:none;\">\n",
              "\n",
              "  <svg xmlns=\"http://www.w3.org/2000/svg\" height=\"24px\" viewBox=\"0 -960 960 960\">\n",
              "    <path d=\"M120-120v-720h720v720H120Zm60-500h600v-160H180v160Zm220 220h160v-160H400v160Zm0 220h160v-160H400v160ZM180-400h160v-160H180v160Zm440 0h160v-160H620v160ZM180-180h160v-160H180v160Zm440 0h160v-160H620v160Z\"/>\n",
              "  </svg>\n",
              "    </button>\n",
              "\n",
              "  <style>\n",
              "    .colab-df-container {\n",
              "      display:flex;\n",
              "      gap: 12px;\n",
              "    }\n",
              "\n",
              "    .colab-df-convert {\n",
              "      background-color: #E8F0FE;\n",
              "      border: none;\n",
              "      border-radius: 50%;\n",
              "      cursor: pointer;\n",
              "      display: none;\n",
              "      fill: #1967D2;\n",
              "      height: 32px;\n",
              "      padding: 0 0 0 0;\n",
              "      width: 32px;\n",
              "    }\n",
              "\n",
              "    .colab-df-convert:hover {\n",
              "      background-color: #E2EBFA;\n",
              "      box-shadow: 0px 1px 2px rgba(60, 64, 67, 0.3), 0px 1px 3px 1px rgba(60, 64, 67, 0.15);\n",
              "      fill: #174EA6;\n",
              "    }\n",
              "\n",
              "    .colab-df-buttons div {\n",
              "      margin-bottom: 4px;\n",
              "    }\n",
              "\n",
              "    [theme=dark] .colab-df-convert {\n",
              "      background-color: #3B4455;\n",
              "      fill: #D2E3FC;\n",
              "    }\n",
              "\n",
              "    [theme=dark] .colab-df-convert:hover {\n",
              "      background-color: #434B5C;\n",
              "      box-shadow: 0px 1px 3px 1px rgba(0, 0, 0, 0.15);\n",
              "      filter: drop-shadow(0px 1px 2px rgba(0, 0, 0, 0.3));\n",
              "      fill: #FFFFFF;\n",
              "    }\n",
              "  </style>\n",
              "\n",
              "    <script>\n",
              "      const buttonEl =\n",
              "        document.querySelector('#df-671fd882-942f-4c7b-89af-71f245b57600 button.colab-df-convert');\n",
              "      buttonEl.style.display =\n",
              "        google.colab.kernel.accessAllowed ? 'block' : 'none';\n",
              "\n",
              "      async function convertToInteractive(key) {\n",
              "        const element = document.querySelector('#df-671fd882-942f-4c7b-89af-71f245b57600');\n",
              "        const dataTable =\n",
              "          await google.colab.kernel.invokeFunction('convertToInteractive',\n",
              "                                                    [key], {});\n",
              "        if (!dataTable) return;\n",
              "\n",
              "        const docLinkHtml = 'Like what you see? Visit the ' +\n",
              "          '<a target=\"_blank\" href=https://colab.research.google.com/notebooks/data_table.ipynb>data table notebook</a>'\n",
              "          + ' to learn more about interactive tables.';\n",
              "        element.innerHTML = '';\n",
              "        dataTable['output_type'] = 'display_data';\n",
              "        await google.colab.output.renderOutput(dataTable, element);\n",
              "        const docLink = document.createElement('div');\n",
              "        docLink.innerHTML = docLinkHtml;\n",
              "        element.appendChild(docLink);\n",
              "      }\n",
              "    </script>\n",
              "  </div>\n",
              "\n",
              "\n",
              "<div id=\"df-cb1320a5-85be-4be4-b336-825d29927df9\">\n",
              "  <button class=\"colab-df-quickchart\" onclick=\"quickchart('df-cb1320a5-85be-4be4-b336-825d29927df9')\"\n",
              "            title=\"Suggest charts.\"\n",
              "            style=\"display:none;\">\n",
              "\n",
              "<svg xmlns=\"http://www.w3.org/2000/svg\" height=\"24px\"viewBox=\"0 0 24 24\"\n",
              "     width=\"24px\">\n",
              "    <g>\n",
              "        <path d=\"M19 3H5c-1.1 0-2 .9-2 2v14c0 1.1.9 2 2 2h14c1.1 0 2-.9 2-2V5c0-1.1-.9-2-2-2zM9 17H7v-7h2v7zm4 0h-2V7h2v10zm4 0h-2v-4h2v4z\"/>\n",
              "    </g>\n",
              "</svg>\n",
              "  </button>\n",
              "\n",
              "<style>\n",
              "  .colab-df-quickchart {\n",
              "      --bg-color: #E8F0FE;\n",
              "      --fill-color: #1967D2;\n",
              "      --hover-bg-color: #E2EBFA;\n",
              "      --hover-fill-color: #174EA6;\n",
              "      --disabled-fill-color: #AAA;\n",
              "      --disabled-bg-color: #DDD;\n",
              "  }\n",
              "\n",
              "  [theme=dark] .colab-df-quickchart {\n",
              "      --bg-color: #3B4455;\n",
              "      --fill-color: #D2E3FC;\n",
              "      --hover-bg-color: #434B5C;\n",
              "      --hover-fill-color: #FFFFFF;\n",
              "      --disabled-bg-color: #3B4455;\n",
              "      --disabled-fill-color: #666;\n",
              "  }\n",
              "\n",
              "  .colab-df-quickchart {\n",
              "    background-color: var(--bg-color);\n",
              "    border: none;\n",
              "    border-radius: 50%;\n",
              "    cursor: pointer;\n",
              "    display: none;\n",
              "    fill: var(--fill-color);\n",
              "    height: 32px;\n",
              "    padding: 0;\n",
              "    width: 32px;\n",
              "  }\n",
              "\n",
              "  .colab-df-quickchart:hover {\n",
              "    background-color: var(--hover-bg-color);\n",
              "    box-shadow: 0 1px 2px rgba(60, 64, 67, 0.3), 0 1px 3px 1px rgba(60, 64, 67, 0.15);\n",
              "    fill: var(--button-hover-fill-color);\n",
              "  }\n",
              "\n",
              "  .colab-df-quickchart-complete:disabled,\n",
              "  .colab-df-quickchart-complete:disabled:hover {\n",
              "    background-color: var(--disabled-bg-color);\n",
              "    fill: var(--disabled-fill-color);\n",
              "    box-shadow: none;\n",
              "  }\n",
              "\n",
              "  .colab-df-spinner {\n",
              "    border: 2px solid var(--fill-color);\n",
              "    border-color: transparent;\n",
              "    border-bottom-color: var(--fill-color);\n",
              "    animation:\n",
              "      spin 1s steps(1) infinite;\n",
              "  }\n",
              "\n",
              "  @keyframes spin {\n",
              "    0% {\n",
              "      border-color: transparent;\n",
              "      border-bottom-color: var(--fill-color);\n",
              "      border-left-color: var(--fill-color);\n",
              "    }\n",
              "    20% {\n",
              "      border-color: transparent;\n",
              "      border-left-color: var(--fill-color);\n",
              "      border-top-color: var(--fill-color);\n",
              "    }\n",
              "    30% {\n",
              "      border-color: transparent;\n",
              "      border-left-color: var(--fill-color);\n",
              "      border-top-color: var(--fill-color);\n",
              "      border-right-color: var(--fill-color);\n",
              "    }\n",
              "    40% {\n",
              "      border-color: transparent;\n",
              "      border-right-color: var(--fill-color);\n",
              "      border-top-color: var(--fill-color);\n",
              "    }\n",
              "    60% {\n",
              "      border-color: transparent;\n",
              "      border-right-color: var(--fill-color);\n",
              "    }\n",
              "    80% {\n",
              "      border-color: transparent;\n",
              "      border-right-color: var(--fill-color);\n",
              "      border-bottom-color: var(--fill-color);\n",
              "    }\n",
              "    90% {\n",
              "      border-color: transparent;\n",
              "      border-bottom-color: var(--fill-color);\n",
              "    }\n",
              "  }\n",
              "</style>\n",
              "\n",
              "  <script>\n",
              "    async function quickchart(key) {\n",
              "      const quickchartButtonEl =\n",
              "        document.querySelector('#' + key + ' button');\n",
              "      quickchartButtonEl.disabled = true;  // To prevent multiple clicks.\n",
              "      quickchartButtonEl.classList.add('colab-df-spinner');\n",
              "      try {\n",
              "        const charts = await google.colab.kernel.invokeFunction(\n",
              "            'suggestCharts', [key], {});\n",
              "      } catch (error) {\n",
              "        console.error('Error during call to suggestCharts:', error);\n",
              "      }\n",
              "      quickchartButtonEl.classList.remove('colab-df-spinner');\n",
              "      quickchartButtonEl.classList.add('colab-df-quickchart-complete');\n",
              "    }\n",
              "    (() => {\n",
              "      let quickchartButtonEl =\n",
              "        document.querySelector('#df-cb1320a5-85be-4be4-b336-825d29927df9 button');\n",
              "      quickchartButtonEl.style.display =\n",
              "        google.colab.kernel.accessAllowed ? 'block' : 'none';\n",
              "    })();\n",
              "  </script>\n",
              "</div>\n",
              "    </div>\n",
              "  </div>\n"
            ]
          },
          "metadata": {},
          "execution_count": 254
        }
      ]
    },
    {
      "cell_type": "markdown",
      "source": [
        "### Clean the text of product name, product description and reviews\n"
      ],
      "metadata": {
        "id": "VwShpG-egfBo"
      }
    },
    {
      "cell_type": "code",
      "source": [
        "def clean_product_name(product_name):\n",
        "    # Convert to lowercase\n",
        "    product_name = product_name.lower()\n",
        "\n",
        "    # Remove special characters and punctuation\n",
        "    product_name = re.sub(r'[^a-zA-Z0-9\\s]', '', product_name)\n",
        "\n",
        "    # Remove extra whitespaces\n",
        "    product_name = ' '.join(product_name.split())\n",
        "\n",
        "    return product_name\n",
        "\n",
        "df['product_name'] = df['product_name'].apply(clean_product_name)\n"
      ],
      "metadata": {
        "id": "IxrTbYXuXHAD"
      },
      "execution_count": 255,
      "outputs": []
    },
    {
      "cell_type": "code",
      "source": [
        "def clean_product_description(about_product):\n",
        "    # Remove special characters and symbols\n",
        "    about_product = re.sub(r'[^a-zA-Z0-9\\s]', '', about_product)\n",
        "\n",
        "    # Replace multiple spaces with a single space\n",
        "    about_product = re.sub(r'\\s+', ' ', about_product)\n",
        "\n",
        "    return about_product\n",
        "\n",
        "df['about_product'] = df['about_product'].apply(clean_product_description)"
      ],
      "metadata": {
        "id": "Pb8V0Wv6ao3Q"
      },
      "execution_count": 256,
      "outputs": []
    },
    {
      "cell_type": "code",
      "source": [
        "def clean_review_text(review_content):\n",
        "    # Remove HTML tags\n",
        "    review_content = BeautifulSoup(str(review_content), \"html.parser\").get_text()\n",
        "\n",
        "    # Convert text to lowercase\n",
        "    review_content = review_content.lower()\n",
        "\n",
        "    # Remove special characters, numbers, and punctuation\n",
        "    review_content = re.sub(r'[^a-zA-Z\\s]', '', review_content)\n",
        "\n",
        "    # Remove extra whitespace and line breaks\n",
        "    review_content = ' '.join(review_content.split())\n",
        "\n",
        "    return review_content\n",
        "\n",
        "df['review_content'] = df['review_content'].apply(clean_review_text)"
      ],
      "metadata": {
        "colab": {
          "base_uri": "https://localhost:8080/"
        },
        "id": "BvmoNDjcaq0X",
        "outputId": "84b4183f-fca3-49cb-ff4e-19d21ff68332"
      },
      "execution_count": 257,
      "outputs": [
        {
          "output_type": "stream",
          "name": "stderr",
          "text": [
            "<ipython-input-257-6815ce5c3861>:3: MarkupResemblesLocatorWarning: The input looks more like a filename than markup. You may want to open this file and pass the filehandle into Beautiful Soup.\n",
            "  review_content = BeautifulSoup(str(review_content), \"html.parser\").get_text()\n"
          ]
        }
      ]
    },
    {
      "cell_type": "code",
      "source": [
        "df['review_content'].head(10)"
      ],
      "metadata": {
        "colab": {
          "base_uri": "https://localhost:8080/"
        },
        "id": "gIAME5bPfUKx",
        "outputId": "64e2a191-e521-49ec-c3cd-b675101ccdaa"
      },
      "execution_count": 266,
      "outputs": [
        {
          "output_type": "execute_result",
          "data": {
            "text/plain": [
              "0    looks durable charging is fine toono complains...\n",
              "1    i ordered this cable to connect my phone to an...\n",
              "2    not quite durable and sturdyhttpsmmediaamazonc...\n",
              "3    good productlong wirecharges goodnicei bought ...\n",
              "4    bought this instead of original apple does the...\n",
              "5    its a good productlikevery good item strong an...\n",
              "6    build quality is good and it is comes with yea...\n",
              "7    worth for money suitable for android auto my p...\n",
              "8    i use this to connect an old pc to internet i ...\n",
              "9    i ordered this cable to connect my phone to an...\n",
              "Name: review_content, dtype: object"
            ]
          },
          "metadata": {},
          "execution_count": 266
        }
      ]
    },
    {
      "cell_type": "markdown",
      "source": [
        "## Category Analysis"
      ],
      "metadata": {
        "id": "dOPW6LcjgrmR"
      }
    },
    {
      "cell_type": "markdown",
      "source": [
        "### Descriptive statistics analysis"
      ],
      "metadata": {
        "id": "29-0YWYvg7zR"
      }
    },
    {
      "cell_type": "code",
      "source": [
        "# Descriptive statistics for sales across categories\n",
        "\n",
        "def price_convert(price_str):\n",
        "    # Remove currency symbols and commas\n",
        "    price_str = price_str.replace('₹', '').replace(',', '')\n",
        "    # Convert to float\n",
        "    return float(price_str)\n",
        "\n",
        "# Clean and convert the 'discounted_price' column\n",
        "df['discounted_price'] = df['discounted_price'].apply(price_convert)\n",
        "\n",
        "# Descriptive statistics\n",
        "grouped_statistics = df.groupby('category')['discounted_price'].describe()\n",
        "print(grouped_statistics)"
      ],
      "metadata": {
        "colab": {
          "base_uri": "https://localhost:8080/"
        },
        "id": "Rda5nXJ6fcCW",
        "outputId": "62a2cf18-f3b7-47be-cb77-dc8c2cca114f"
      },
      "execution_count": 259,
      "outputs": [
        {
          "output_type": "stream",
          "name": "stdout",
          "text": [
            "                       count         mean           std     min     25%  \\\n",
            "category                                                                  \n",
            "Car&Motorbike            1.0  2339.000000           NaN  2339.0  2339.0   \n",
            "Computers&Accessories  453.0   842.650375   2383.115593    39.0   199.0   \n",
            "Electronics            526.0  5965.887833  10279.670967    79.0   399.0   \n",
            "Health&PersonalCare      1.0   899.000000           NaN   899.0   899.0   \n",
            "Home&Kitchen           448.0  2330.615647   3467.403842    79.0   632.5   \n",
            "HomeImprovement          2.0   337.000000    124.450793   249.0   293.0   \n",
            "MusicalInstruments       2.0   638.000000    226.274170   478.0   558.0   \n",
            "OfficeProducts          31.0   301.580645    317.288699    50.0   117.0   \n",
            "Toys&Games               1.0   150.000000           NaN   150.0   150.0   \n",
            "\n",
            "                          50%      75%      max  \n",
            "category                                         \n",
            "Car&Motorbike          2339.0  2339.00   2339.0  \n",
            "Computers&Accessories   349.0   770.00  37247.0  \n",
            "Electronics            1399.0  7224.00  77990.0  \n",
            "Health&PersonalCare     899.0   899.00    899.0  \n",
            "Home&Kitchen           1199.0  2695.75  42990.0  \n",
            "HomeImprovement         337.0   381.00    425.0  \n",
            "MusicalInstruments      638.0   718.00    798.0  \n",
            "OfficeProducts          178.0   380.50   1399.0  \n",
            "Toys&Games              150.0   150.00    150.0  \n"
          ]
        }
      ]
    },
    {
      "cell_type": "code",
      "source": [
        "# Descriptive statistics for ratings across categories\n",
        "\n",
        "# Clean the 'rating' column by removing non-numeric characters and empty string\n",
        "df['rating'] = df['rating'].str.replace('[^0-9.]', '', regex=True)\n",
        "df['rating'] = df['rating'].replace('', np.nan)\n",
        "\n",
        "# Convert the 'rating' column to float\n",
        "df['rating'] = df['rating'].astype(float)\n",
        "\n",
        "# Calculate descriptive statistics\n",
        "grouped_statistics = df.groupby('category')['rating'].describe()\n",
        "print(grouped_statistics)"
      ],
      "metadata": {
        "colab": {
          "base_uri": "https://localhost:8080/"
        },
        "id": "elziSbLhhnUJ",
        "outputId": "1d4fc090-69ca-415a-9562-09cd0db7f536"
      },
      "execution_count": 260,
      "outputs": [
        {
          "output_type": "stream",
          "name": "stdout",
          "text": [
            "                       count      mean       std  min    25%   50%    75%  max\n",
            "category                                                                      \n",
            "Car&Motorbike            1.0  3.800000       NaN  3.8  3.800  3.80  3.800  3.8\n",
            "Computers&Accessories  453.0  4.154967  0.261045  3.0  4.000  4.20  4.300  5.0\n",
            "Electronics            526.0  4.081749  0.269620  2.8  3.900  4.10  4.300  4.7\n",
            "Health&PersonalCare      1.0  4.000000       NaN  4.0  4.000  4.00  4.000  4.0\n",
            "Home&Kitchen           447.0  4.040716  0.334687  2.0  3.900  4.10  4.200  4.8\n",
            "HomeImprovement          2.0  4.250000  0.353553  4.0  4.125  4.25  4.375  4.5\n",
            "MusicalInstruments       2.0  3.900000  0.141421  3.8  3.850  3.90  3.950  4.0\n",
            "OfficeProducts          31.0  4.309677  0.149119  4.0  4.200  4.30  4.400  4.5\n",
            "Toys&Games               1.0  4.300000       NaN  4.3  4.300  4.30  4.300  4.3\n"
          ]
        }
      ]
    },
    {
      "cell_type": "code",
      "source": [
        "# Descriptive statistics for reviews across categories\n",
        "\n",
        "grouped_statistics = df.groupby('category')['review_content'].describe()\n",
        "print(grouped_statistics)"
      ],
      "metadata": {
        "colab": {
          "base_uri": "https://localhost:8080/"
        },
        "id": "VnAzDIwVmVVu",
        "outputId": "e3db5739-b9d9-442b-cda7-52445d9c7497"
      },
      "execution_count": 261,
      "outputs": [
        {
          "output_type": "stream",
          "name": "stdout",
          "text": [
            "                      count unique  \\\n",
            "category                             \n",
            "Car&Motorbike             1      1   \n",
            "Computers&Accessories   453    331   \n",
            "Electronics             526    391   \n",
            "Health&PersonalCare       1      1   \n",
            "Home&Kitchen            448    448   \n",
            "HomeImprovement           2      2   \n",
            "MusicalInstruments        2      2   \n",
            "OfficeProducts           31     31   \n",
            "Toys&Games                1      1   \n",
            "\n",
            "                                                                     top freq  \n",
            "category                                                                       \n",
            "Car&Motorbike          as of now its working fine but dont expect mor...    1  \n",
            "Computers&Accessories  good productlong wirecharges goodnicei bought ...    7  \n",
            "Electronics            i am not big on camera usage personally i was ...    8  \n",
            "Health&PersonalCare    this is aesthetically the most appealing digit...    1  \n",
            "Home&Kitchen           quality of adhesive is very good i used it to ...    1  \n",
            "HomeImprovement        i can say costly although it can do the jobi l...    1  \n",
            "MusicalInstruments     note its ready to go mic which doesnt need any...    1  \n",
            "OfficeProducts         very nice ball penthank you amazoneasy to hold...    1  \n",
            "Toys&Games             torn packingdekhne me product used lg rha thai...    1  \n"
          ]
        }
      ]
    },
    {
      "cell_type": "markdown",
      "source": [
        "### Discount Analysis"
      ],
      "metadata": {
        "id": "yyevQV4uoxdj"
      }
    },
    {
      "cell_type": "code",
      "source": [
        "# Analyze the number of discounts across categories\n",
        "\n",
        "# Clean and convert the 'actual_price' column\n",
        "df['actual_price'] = df['actual_price'].apply(price_convert)\n",
        "\n",
        "# Aggregate sum, mean for discounts per category\n",
        "df['discount'] = df['actual_price'] - df['discounted_price']\n",
        "total_discount = df.groupby('category')['discount'].agg([\"sum\",\"mean\"])\n",
        "print(total_discount)"
      ],
      "metadata": {
        "colab": {
          "base_uri": "https://localhost:8080/"
        },
        "id": "EgLqk2TEoGHt",
        "outputId": "6f3b0314-73b0-48df-d80e-e2f0c83c689b"
      },
      "execution_count": 262,
      "outputs": [
        {
          "output_type": "stream",
          "name": "stdout",
          "text": [
            "                              sum         mean\n",
            "category                                      \n",
            "Car&Motorbike             1661.00  1661.000000\n",
            "Computers&Accessories   380960.66   840.972759\n",
            "Electronics            2188909.00  4161.423954\n",
            "Health&PersonalCare       1001.00  1001.000000\n",
            "Home&Kitchen            820493.19  1831.458013\n",
            "HomeImprovement            924.00   462.000000\n",
            "MusicalInstruments        1418.00   709.000000\n",
            "OfficeProducts            2964.00    95.612903\n",
            "Toys&Games                   0.00     0.000000\n"
          ]
        }
      ]
    },
    {
      "cell_type": "code",
      "source": [
        "# Analyze the average and median discount percentage per category\n",
        "\n",
        "def discount_clean(discount_str):\n",
        "    discount_str = discount_str.replace('%', '')\n",
        "    return int(discount_str)\n",
        "\n",
        "# Clean the 'discount_percentage' column\n",
        "df['discount_percentage'] = df['discount_percentage'].apply(discount_clean)\n",
        "\n",
        "# Calculate mean and median for discount percentage\n",
        "discount_percent = df.groupby('category')['discount_percentage'].agg(['mean','median'])\n",
        "print(discount_percent)"
      ],
      "metadata": {
        "colab": {
          "base_uri": "https://localhost:8080/"
        },
        "id": "529GWJmYpZj_",
        "outputId": "ddaa7bae-6278-4c51-e405-67c663b51741"
      },
      "execution_count": 263,
      "outputs": [
        {
          "output_type": "stream",
          "name": "stdout",
          "text": [
            "                            mean  median\n",
            "category                                \n",
            "Car&Motorbike          42.000000    42.0\n",
            "Computers&Accessories  54.024283    58.0\n",
            "Electronics            50.828897    54.0\n",
            "Health&PersonalCare    53.000000    53.0\n",
            "Home&Kitchen           40.120536    41.5\n",
            "HomeImprovement        57.500000    57.5\n",
            "MusicalInstruments     46.000000    46.0\n",
            "OfficeProducts         12.354839     5.0\n",
            "Toys&Games              0.000000     0.0\n"
          ]
        }
      ]
    },
    {
      "cell_type": "markdown",
      "source": [
        "## Review Sentiment Analysis"
      ],
      "metadata": {
        "id": "XEW_thHetEFm"
      }
    },
    {
      "cell_type": "code",
      "source": [
        "# Download pre-trained sentiment analysis lexicon\n",
        "nltk.download('vader_lexicon')\n",
        "\n",
        "# Initialize the Sentiment Intensity Analyzer\n",
        "sia = SentimentIntensityAnalyzer()\n",
        "\n",
        "# Define a function to assign sentiment labels\n",
        "def get_sentiment(review):\n",
        "    sentiment_score = sia.polarity_scores(review)\n",
        "    if sentiment_score['compound'] >= 0.05:\n",
        "        return 'positive'\n",
        "    elif sentiment_score['compound'] <= -0.05:\n",
        "        return 'negative'\n",
        "    else:\n",
        "        return 'neutral'\n",
        "\n",
        "# Apply the function to the 'review_content' column\n",
        "df['sentiment'] = df['review_content'].apply(get_sentiment)\n"
      ],
      "metadata": {
        "colab": {
          "base_uri": "https://localhost:8080/"
        },
        "id": "jDFGTZqJqjIp",
        "outputId": "224b0614-50f8-431d-bb08-14c7ba857243"
      },
      "execution_count": 264,
      "outputs": [
        {
          "output_type": "stream",
          "name": "stderr",
          "text": [
            "[nltk_data] Downloading package vader_lexicon to /root/nltk_data...\n",
            "[nltk_data]   Package vader_lexicon is already up-to-date!\n"
          ]
        }
      ]
    },
    {
      "cell_type": "code",
      "source": [
        "# Encode 'sentiment' as binary\n",
        "sentiment_mapping = {'negative': 0, 'positive': 1, 'neutral': 2}\n",
        "df['sentiment_encoded'] = df['sentiment'].map(sentiment_mapping)\n",
        "\n",
        "# Handle missing values (NaN)\n",
        "df.dropna(subset=['rating', 'sentiment_encoded'], inplace=True)\n",
        "\n",
        "# Calculate the correlation matrix\n",
        "correlation_matrix = df[['rating', 'sentiment_encoded']].corr()\n",
        "\n",
        "# Print the correlation between 'rating' and 'sentiment_encoded'\n",
        "print(correlation_matrix)"
      ],
      "metadata": {
        "colab": {
          "base_uri": "https://localhost:8080/"
        },
        "id": "vwNayN7rRqPz",
        "outputId": "871f32d3-8fa6-4a3c-cd34-2fe73f484593"
      },
      "execution_count": 265,
      "outputs": [
        {
          "output_type": "stream",
          "name": "stdout",
          "text": [
            "                     rating  sentiment_encoded\n",
            "rating             1.000000           0.111888\n",
            "sentiment_encoded  0.111888           1.000000\n"
          ]
        }
      ]
    },
    {
      "cell_type": "markdown",
      "source": [
        "#### The analysis of the relationship between sentiment and product rating in our dataset reveals a weak positive correlation (correlation coefficient of 0.111). This means that, on average, higher product ratings tend to be associated with slightly more positive sentiment. However, the relationship is not strong, indicating that factors beyond rating significantly influence sentiment, and that rating alone is not a reliable predictor of sentiment in our dataset."
      ],
      "metadata": {
        "id": "wBXYzM1bYEi3"
      }
    },
    {
      "cell_type": "code",
      "source": [],
      "metadata": {
        "id": "Yv-BQvh4YYxK"
      },
      "execution_count": 265,
      "outputs": []
    }
  ]
}