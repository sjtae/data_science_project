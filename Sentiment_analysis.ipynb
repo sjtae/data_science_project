{
  "nbformat": 4,
  "nbformat_minor": 0,
  "metadata": {
    "colab": {
      "provenance": [],
      "authorship_tag": "ABX9TyMA4pA0uywWb646Lt67HXQT",
      "include_colab_link": true
    },
    "kernelspec": {
      "name": "ir",
      "display_name": "R"
    },
    "language_info": {
      "name": "R"
    }
  },
  "cells": [
    {
      "cell_type": "markdown",
      "metadata": {
        "id": "view-in-github",
        "colab_type": "text"
      },
      "source": [
        "<a href=\"https://colab.research.google.com/github/sjtae/data_science_project/blob/main/Sentiment_analysis.ipynb\" target=\"_parent\"><img src=\"https://colab.research.google.com/assets/colab-badge.svg\" alt=\"Open In Colab\"/></a>"
      ]
    },
    {
      "cell_type": "code",
      "execution_count": null,
      "metadata": {
        "colab": {
          "base_uri": "https://localhost:8080/"
        },
        "id": "NVHUcx_YLMBP",
        "outputId": "1e1ee19b-5958-419d-9088-5973907616dc"
      },
      "outputs": [
        {
          "output_type": "stream",
          "name": "stderr",
          "text": [
            "Installing package into ‘/usr/local/lib/R/site-library’\n",
            "(as ‘lib’ is unspecified)\n",
            "\n",
            "also installing the dependencies ‘Rcpp’, ‘SnowballC’, ‘janeaustenr’, ‘tokenizers’\n",
            "\n",
            "\n",
            "Installing package into ‘/usr/local/lib/R/site-library’\n",
            "(as ‘lib’ is unspecified)\n",
            "\n",
            "also installing the dependencies ‘textshaping’, ‘conflicted’, ‘jsonlite’, ‘ragg’, ‘stringr’\n",
            "\n",
            "\n",
            "Warning message in install.packages(\"tidyverse\"):\n",
            "“installation of package ‘textshaping’ had non-zero exit status”\n",
            "Warning message in install.packages(\"tidyverse\"):\n",
            "“installation of package ‘ragg’ had non-zero exit status”\n",
            "Warning message in install.packages(\"tidyverse\"):\n",
            "“installation of package ‘tidyverse’ had non-zero exit status”\n",
            "Installing package into ‘/usr/local/lib/R/site-library’\n",
            "(as ‘lib’ is unspecified)\n",
            "\n",
            "Installing package into ‘/usr/local/lib/R/site-library’\n",
            "(as ‘lib’ is unspecified)\n",
            "\n",
            "Warning message in system(\"timedatectl\", intern = TRUE):\n",
            "“running command 'timedatectl' had status 1”\n",
            "── \u001b[1mAttaching packages\u001b[22m ─────────────────────────────────────── tidyverse 1.3.1 ──\n",
            "\n",
            "\u001b[32m✔\u001b[39m \u001b[34mggplot2\u001b[39m 3.4.1     \u001b[32m✔\u001b[39m \u001b[34mpurrr  \u001b[39m 1.0.1\n",
            "\u001b[32m✔\u001b[39m \u001b[34mtibble \u001b[39m 3.2.1     \u001b[32m✔\u001b[39m \u001b[34mdplyr  \u001b[39m 1.1.1\n",
            "\u001b[32m✔\u001b[39m \u001b[34mtidyr  \u001b[39m 1.3.0     \u001b[32m✔\u001b[39m \u001b[34mstringr\u001b[39m 1.5.0\n",
            "\u001b[32m✔\u001b[39m \u001b[34mreadr  \u001b[39m 2.1.4     \u001b[32m✔\u001b[39m \u001b[34mforcats\u001b[39m 1.0.0\n",
            "\n",
            "── \u001b[1mConflicts\u001b[22m ────────────────────────────────────────── tidyverse_conflicts() ──\n",
            "\u001b[31m✖\u001b[39m \u001b[34mdplyr\u001b[39m::\u001b[32mfilter()\u001b[39m masks \u001b[34mstats\u001b[39m::filter()\n",
            "\u001b[31m✖\u001b[39m \u001b[34mdplyr\u001b[39m::\u001b[32mlag()\u001b[39m    masks \u001b[34mstats\u001b[39m::lag()\n",
            "\n",
            "Loading required package: RColorBrewer\n",
            "\n"
          ]
        }
      ],
      "source": [
        "install.packages(\"tidytext\")\n",
        "install.packages(\"tidyverse\")\n",
        "install.packages(\"textdata\")\n",
        "install.packages(\"wordcloud\")\n",
        "library(tidytext)\n",
        "library(textdata)\n",
        "library(tidyverse)\n",
        "library(wordcloud)"
      ]
    },
    {
      "cell_type": "code",
      "source": [
        "df <- read.csv(\"Tweets.csv\")\n",
        "df <- df[,c(-3,-4)]\n",
        "glimpse(df)"
      ],
      "metadata": {
        "colab": {
          "base_uri": "https://localhost:8080/",
          "height": 222
        },
        "id": "fviC9UZQLPUD",
        "outputId": "7aecc197-ac4e-4666-8dfa-e5c0809a9e83"
      },
      "execution_count": 6,
      "outputs": [
        {
          "output_type": "stream",
          "name": "stderr",
          "text": [
            "Warning message in file(file, \"rt\"):\n",
            "“cannot open file 'Tweets.csv': No such file or directory”\n"
          ]
        },
        {
          "output_type": "error",
          "ename": "ERROR",
          "evalue": "ignored",
          "traceback": [
            "Error in file(file, \"rt\"): cannot open the connection\nTraceback:\n",
            "1. read.csv(\"Tweets.csv\")",
            "2. read.table(file = file, header = header, sep = sep, quote = quote, \n .     dec = dec, fill = fill, comment.char = comment.char, ...)",
            "3. file(file, \"rt\")"
          ]
        }
      ]
    },
    {
      "cell_type": "code",
      "source": [
        "## Tokenize the df\n",
        "tidy_df <- df %>% \n",
        "  unnest_tokens(word, text)\n",
        "\n",
        "tidy_df %>%\n",
        "  count(word) %>%\n",
        "  arrange( desc(n))"
      ],
      "metadata": {
        "id": "7UDkDyfJMSjR",
        "colab": {
          "base_uri": "https://localhost:8080/",
          "height": 169
        },
        "outputId": "fec32132-b258-4aea-e920-3f8fac986f3f"
      },
      "execution_count": 5,
      "outputs": [
        {
          "output_type": "error",
          "ename": "ERROR",
          "evalue": "ignored",
          "traceback": [
            "Error in UseMethod(\"pull\"): no applicable method for 'pull' applied to an object of class \"function\"\nTraceback:\n",
            "1. df %>% unnest_tokens(word, text)",
            "2. unnest_tokens(., word, text)",
            "3. pull(tbl, !!input)"
          ]
        }
      ]
    },
    {
      "cell_type": "code",
      "source": [
        "## inner join stop words\n",
        "sentiment_df <- tidy_df %>%\n",
        "  inner_join(get_sentiments(\"bing\"))\n",
        "head(sentiment_df)"
      ],
      "metadata": {
        "id": "PIp9g931Mjyf"
      },
      "execution_count": null,
      "outputs": []
    },
    {
      "cell_type": "code",
      "source": [
        "## word cloud\n",
        "word_count <- sentiment_df %>%\n",
        "  count(word)\n",
        "\n",
        "wordcloud(\n",
        "  words = word_count$word,\n",
        "  freq = word_count$n,\n",
        "  max.words = 10,\n",
        "  colors = \"salmon\")"
      ],
      "metadata": {
        "id": "Cz7fus7bMoHa",
        "colab": {
          "base_uri": "https://localhost:8080/",
          "height": 151
        },
        "outputId": "5fba287c-1f21-417a-c038-2410e52a745c"
      },
      "execution_count": 4,
      "outputs": [
        {
          "output_type": "error",
          "ename": "ERROR",
          "evalue": "ignored",
          "traceback": [
            "Error in count(., word): object 'sentiment_df' not found\nTraceback:\n",
            "1. sentiment_df %>% count(word)",
            "2. count(., word)"
          ]
        }
      ]
    },
    {
      "cell_type": "code",
      "source": [
        "## visualize words\n",
        "word_count <- sentiment_df %>%\n",
        "    count(word, sentiment) %>%\n",
        "    group_by(sentiment) %>%\n",
        "    slice_max(n, n =10) %>%\n",
        "    ungroup() %>%\n",
        "    mutate(word2 = fct_reorder(word,n))\n",
        "\n",
        "ggplot(word_count, aes(word2, n, fill = as.factor(sentiment))) +\n",
        "  geom_col(show.legend = F) +\n",
        "  facet_wrap(~sentiment, scales = \"free_y\") +\n",
        "  coord_flip() +\n",
        "  ggtitle(\"Counting Words\") +\n",
        "  theme_minimal()"
      ],
      "metadata": {
        "id": "-XgcJ0pxMsH-"
      },
      "execution_count": null,
      "outputs": []
    },
    {
      "cell_type": "code",
      "source": [
        "## counting sentiment\n",
        "sentiment_df %>%\n",
        "  count(sentiment) %>%\n",
        "  arrange( desc(n))"
      ],
      "metadata": {
        "id": "F3R6rgnlMyTq"
      },
      "execution_count": null,
      "outputs": []
    },
    {
      "cell_type": "code",
      "source": [
        "## overall sentiment\n",
        "(sentiment_df2 <- tidy_df %>% \n",
        "    inner_join(get_sentiments(\"bing\")) %>% \n",
        "    count(sentiment) %>% \n",
        "    pivot_wider(names_from = sentiment, values_from = n) %>% \n",
        "    mutate(overall_sentiment = positive - negative))\n",
        "\n",
        "ggplot(sentiment_df, aes(sentiment)) +\n",
        "  geom_bar(fill = \"orange\") +\n",
        "  theme_minimal() +\n",
        "  ggtitle(\"Overall Sentiment\")"
      ],
      "metadata": {
        "id": "IPU65pTDM687"
      },
      "execution_count": null,
      "outputs": []
    },
    {
      "cell_type": "code",
      "source": [],
      "metadata": {
        "id": "029PGC0KM-K7"
      },
      "execution_count": null,
      "outputs": []
    }
  ]
}